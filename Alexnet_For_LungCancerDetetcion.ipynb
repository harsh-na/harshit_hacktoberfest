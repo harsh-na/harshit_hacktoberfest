{
  "nbformat": 4,
  "nbformat_minor": 0,
  "metadata": {
    "colab": {
      "provenance": [],
      "machine_shape": "hm"
    },
    "kernelspec": {
      "name": "python3",
      "display_name": "Python 3"
    },
    "language_info": {
      "name": "python"
    },
    "accelerator": "GPU",
    "gpuClass": "standard"
  },
  "cells": [
    {
      "cell_type": "code",
      "execution_count": null,
      "metadata": {
        "colab": {
          "base_uri": "https://localhost:8080/"
        },
        "id": "7WBMAAA6z7k-",
        "outputId": "89ba2f27-c854-4681-d506-dd36d6d6ea89"
      },
      "outputs": [
        {
          "output_type": "stream",
          "name": "stdout",
          "text": [
            "Tensor Flow Version: 2.8.2\n",
            "numpy Version: 1.21.6\n"
          ]
        }
      ],
      "source": [
        "import tensorflow as tf\n",
        "import numpy as np\n",
        "import pathlib\n",
        "import datetime\n",
        "\n",
        "# printout versions\n",
        "print(f\"Tensor Flow Version: {tf.__version__}\")\n",
        "print(f\"numpy Version: {np.version.version}\")"
      ]
    },
    {
      "cell_type": "code",
      "source": [
        "%load_ext tensorboard"
      ],
      "metadata": {
        "id": "IehSyHLT0KzJ"
      },
      "execution_count": null,
      "outputs": []
    },
    {
      "cell_type": "code",
      "source": [
        "from keras.utils.np_utils import to_categorical"
      ],
      "metadata": {
        "id": "pFRQYlyw0K62"
      },
      "execution_count": null,
      "outputs": []
    },
    {
      "cell_type": "code",
      "source": [
        "import json\n",
        "import math\n",
        "import os\n",
        "\n",
        "import cv2\n",
        "from PIL import Image\n",
        "import numpy as np\n",
        "from keras import layers\n",
        "from tensorflow.keras.applications import ResNet50,MobileNet, DenseNet201, InceptionV3, NASNetLarge, InceptionResNetV2, NASNetMobile\n",
        "from keras.callbacks import Callback, ModelCheckpoint, ReduceLROnPlateau, TensorBoard\n",
        "from keras.preprocessing.image import ImageDataGenerator\n",
        "from keras.utils.np_utils import to_categorical\n",
        "from keras.models import Sequential\n",
        "from tensorflow.keras.optimizers import Adam\n",
        "import matplotlib.pyplot as plt\n",
        "import pandas as pd\n",
        "from sklearn.model_selection import train_test_split\n",
        "from sklearn.metrics import cohen_kappa_score, accuracy_score\n",
        "import scipy\n",
        "from tqdm import tqdm\n",
        "import tensorflow as tf\n",
        "from keras import backend as K\n",
        "import gc\n",
        "from functools import partial\n",
        "from sklearn import metrics\n",
        "from collections import Counter\n",
        "import json\n",
        "import itertools\n",
        "\n",
        "\n",
        "%matplotlib inline"
      ],
      "metadata": {
        "id": "7LBqarvz0K_Q"
      },
      "execution_count": null,
      "outputs": []
    },
    {
      "cell_type": "code",
      "source": [
        "import os\n",
        "import numpy as np\n",
        "import pandas as pd\n",
        "import matplotlib.pyplot as plt\n",
        "from random import shuffle\n",
        "import pickle, datetime\n",
        "#import Preprocess as pp\n",
        "\n",
        "import keras\n",
        "from keras.datasets import cifar10\n",
        "from keras.models import Model, Sequential\n",
        "from keras.layers import Input, Dense, Dropout, Flatten, Activation\n",
        "from keras.layers import Conv2D, Convolution2D, MaxPooling2D\n",
        "from keras.layers.convolutional import ZeroPadding2D\n",
        "from tensorflow.keras.layers import BatchNormalization\n",
        "from keras.utils import np_utils\n",
        "from keras import optimizers\n",
        "from keras.preprocessing import sequence\n",
        "from keras.preprocessing.image import ImageDataGenerator, array_to_img, img_to_array, load_img\n",
        "\n",
        "import  PIL.Image"
      ],
      "metadata": {
        "id": "0Ge3HkTE8BZ4"
      },
      "execution_count": null,
      "outputs": []
    },
    {
      "cell_type": "code",
      "source": [
        "luna_cancer_data = np.load('/content/drive/MyDrive/Ramasubramanya/LotusFeet/cancernodule_image_900_96_96_patches.npy')\n",
        "luna_cancer_data = luna_cancer_data[:850]\n",
        "print(luna_cancer_data.shape, luna_cancer_data[0].shape)"
      ],
      "metadata": {
        "colab": {
          "base_uri": "https://localhost:8080/"
        },
        "id": "V1j_z2-ZM86L",
        "outputId": "b77593f5-a7d4-4540-ab2d-b86c0cd419a0"
      },
      "execution_count": null,
      "outputs": [
        {
          "output_type": "stream",
          "name": "stdout",
          "text": [
            "(850, 96, 96, 1) (96, 96, 1)\n"
          ]
        }
      ]
    },
    {
      "cell_type": "code",
      "source": [
        "luna_cancer_data = luna_cancer_data.reshape(850,96,96)\n",
        "luna_cancer_data_rgb = np.repeat(luna_cancer_data[..., np.newaxis], 3, -1)\n",
        "print(luna_cancer_data_rgb.shape, luna_cancer_data_rgb[0].shape)"
      ],
      "metadata": {
        "colab": {
          "base_uri": "https://localhost:8080/"
        },
        "id": "wCrMO1HOM89i",
        "outputId": "acdb651a-c800-4635-f317-4a61a5c9118a"
      },
      "execution_count": null,
      "outputs": [
        {
          "output_type": "stream",
          "name": "stdout",
          "text": [
            "(850, 96, 96, 3) (96, 96, 3)\n"
          ]
        }
      ]
    },
    {
      "cell_type": "code",
      "source": [
        "luna_non_cancer_data = np.load(\"/content/drive/MyDrive/Ramasubramanya/LotusFeet/non_cancernodule_image_1400_96_96_patches.npy\")\n",
        "luna_non_cancer_data = luna_non_cancer_data[:850]\n",
        "print(luna_non_cancer_data.shape, luna_non_cancer_data[0].shape)"
      ],
      "metadata": {
        "colab": {
          "base_uri": "https://localhost:8080/"
        },
        "id": "d2_KTP9QM9A0",
        "outputId": "4d9eafa5-c0df-4add-ca07-206e82c0cc26"
      },
      "execution_count": null,
      "outputs": [
        {
          "output_type": "stream",
          "name": "stdout",
          "text": [
            "(850, 96, 96, 1) (96, 96, 1)\n"
          ]
        }
      ]
    },
    {
      "cell_type": "code",
      "source": [
        "luna_non_cancer_data = luna_non_cancer_data.reshape(850,96,96)\n",
        "luna_non_cancer_data_rgb = np.repeat(luna_non_cancer_data[..., np.newaxis], 3, -1)\n",
        "print(luna_non_cancer_data_rgb.shape, luna_non_cancer_data_rgb[0].shape)"
      ],
      "metadata": {
        "colab": {
          "base_uri": "https://localhost:8080/"
        },
        "id": "c9T-qMDLM9D3",
        "outputId": "ed9dc6bf-80b4-433b-f04b-63b6d34ee769"
      },
      "execution_count": null,
      "outputs": [
        {
          "output_type": "stream",
          "name": "stdout",
          "text": [
            "(850, 96, 96, 3) (96, 96, 3)\n"
          ]
        }
      ]
    },
    {
      "cell_type": "code",
      "source": [
        "X_luna = np.concatenate((luna_cancer_data_rgb,luna_non_cancer_data_rgb), axis = 0)\n",
        "print(X_luna.shape, X_luna[0].shape)"
      ],
      "metadata": {
        "colab": {
          "base_uri": "https://localhost:8080/"
        },
        "id": "yi8gMT3IM9Gn",
        "outputId": "b3524550-768e-40cd-aa35-7579d4af223e"
      },
      "execution_count": null,
      "outputs": [
        {
          "output_type": "stream",
          "name": "stdout",
          "text": [
            "(1700, 96, 96, 3) (96, 96, 3)\n"
          ]
        }
      ]
    },
    {
      "cell_type": "code",
      "source": [
        "cancer_labels = np.ones(850)\n",
        "noncancer_labels = np.zeros(850)\n",
        "Y_luna = np.concatenate((cancer_labels,noncancer_labels), axis = 0)"
      ],
      "metadata": {
        "id": "WxBUx0NtM9JR"
      },
      "execution_count": null,
      "outputs": []
    },
    {
      "cell_type": "code",
      "source": [
        "print(X_luna.shape, Y_luna.shape)"
      ],
      "metadata": {
        "colab": {
          "base_uri": "https://localhost:8080/"
        },
        "id": "zpuJgxZZNJx-",
        "outputId": "c82d7f69-2df9-4fe7-feab-210981e0d1f3"
      },
      "execution_count": null,
      "outputs": [
        {
          "output_type": "stream",
          "name": "stdout",
          "text": [
            "(1700, 96, 96, 3) (1700,)\n"
          ]
        }
      ]
    },
    {
      "cell_type": "code",
      "source": [
        "from sklearn.model_selection import train_test_split\n",
        "(X_luna_train, X_luna_test, y_luna_train, y_luna_test) = train_test_split(X_luna, Y_luna,test_size=0.3, stratify=Y_luna, random_state=42)"
      ],
      "metadata": {
        "id": "tO7Do2NPNJ04"
      },
      "execution_count": null,
      "outputs": []
    },
    {
      "cell_type": "code",
      "source": [
        "print((X_luna_train.shape, X_luna_test.shape, y_luna_train.shape, y_luna_test.shape))"
      ],
      "metadata": {
        "colab": {
          "base_uri": "https://localhost:8080/"
        },
        "id": "lvGdeGqvNJ3t",
        "outputId": "48d9649f-df70-4318-9267-edc0f7bef17b"
      },
      "execution_count": null,
      "outputs": [
        {
          "output_type": "stream",
          "name": "stdout",
          "text": [
            "((1190, 96, 96, 3), (510, 96, 96, 3), (1190,), (510,))\n"
          ]
        }
      ]
    },
    {
      "cell_type": "code",
      "source": [
        "# y_luna_train = to_categorical(y_luna_train, num_classes= 2)\n",
        "# y_luna_test = to_categorical(y_luna_test, num_classes= 2)\n",
        "# print(y_luna_train.shape,y_luna_test.shape)"
      ],
      "metadata": {
        "id": "8jOE32mcNJ6W"
      },
      "execution_count": null,
      "outputs": []
    },
    {
      "cell_type": "code",
      "source": [
        "N_CATEGORY = 1"
      ],
      "metadata": {
        "id": "zxmQJFbm8765"
      },
      "execution_count": null,
      "outputs": []
    },
    {
      "cell_type": "code",
      "source": [
        "def build_model(lr=1e-4):\n",
        "   return tf.keras.models.Sequential([\n",
        "      # 1st conv\n",
        "    tf.keras.layers.Conv2D(64, (3,3), activation='relu', input_shape=(96, 96, 3)),\n",
        "    tf.keras.layers.Conv2D(64, (3,3), activation='relu'),\n",
        "    tf.keras.layers.MaxPooling2D(2, strides=(2,2)),\n",
        "      # 2nd conv\n",
        "    tf.keras.layers.Conv2D(128, (3,3), activation='relu', input_shape=(46, 46, 3)),\n",
        "    tf.keras.layers.Conv2D(128, (3,3), activation='relu'),\n",
        "    tf.keras.layers.Conv2D(128, (3,3), activation='relu'),\n",
        "    tf.keras.layers.MaxPooling2D(2, strides=(2,2)),\n",
        "      # 3rd conv\n",
        "    tf.keras.layers.Conv2D(256, (3,3), activation='relu', input_shape=(23, 23, 3)),\n",
        "    tf.keras.layers.Conv2D(256, (3,3), activation='relu'),\n",
        "    tf.keras.layers.Conv2D(256, (3,3), activation='relu'),\n",
        "    tf.keras.layers.MaxPooling2D(2, strides=(2,2)),\n",
        "    \n",
        "    # To Flatten layer\n",
        "    tf.keras.layers.Flatten(),\n",
        "    # To FC layer 1\n",
        "    tf.keras.layers.Dense(4096, activation='relu'),\n",
        "    tf.keras.layers.Dropout(0.2),\n",
        "    tf.keras.layers.Dense(4096, activation='relu'),\n",
        "    tf.keras.layers.Dropout(0.2),\n",
        "    tf.keras.layers.Dense(2, activation='sigmoid')\n",
        "  ])"
      ],
      "metadata": {
        "id": "zgk4nw-t5MyE"
      },
      "execution_count": null,
      "outputs": []
    },
    {
      "cell_type": "code",
      "source": [
        "# K.clear_session()\n",
        "# gc.collect()\n",
        "\n",
        "# resnet = tf.keras.applications.InceptionV3(\n",
        "#     weights='imagenet',\n",
        "#     include_top=False,\n",
        "#     input_shape=(96,96,3)\n",
        "# )\n",
        "\n",
        "\n",
        " \n",
        "#building Alexnet - v1 Model\n",
        "\n",
        "Alexnet_Luna16_model = build_model(lr = 1e-6)\n",
        "Alexnet_Luna16_model.summary()"
      ],
      "metadata": {
        "colab": {
          "base_uri": "https://localhost:8080/"
        },
        "id": "n5L5VQ7pOGmn",
        "outputId": "b2a4d54a-9fd6-4bcc-b4cc-f888e672ccec"
      },
      "execution_count": null,
      "outputs": [
        {
          "output_type": "stream",
          "name": "stdout",
          "text": [
            "Model: \"sequential\"\n",
            "_________________________________________________________________\n",
            " Layer (type)                Output Shape              Param #   \n",
            "=================================================================\n",
            " conv2d (Conv2D)             (None, 94, 94, 64)        1792      \n",
            "                                                                 \n",
            " conv2d_1 (Conv2D)           (None, 92, 92, 64)        36928     \n",
            "                                                                 \n",
            " max_pooling2d (MaxPooling2D  (None, 46, 46, 64)       0         \n",
            " )                                                               \n",
            "                                                                 \n",
            " conv2d_2 (Conv2D)           (None, 44, 44, 128)       73856     \n",
            "                                                                 \n",
            " conv2d_3 (Conv2D)           (None, 42, 42, 128)       147584    \n",
            "                                                                 \n",
            " conv2d_4 (Conv2D)           (None, 40, 40, 128)       147584    \n",
            "                                                                 \n",
            " max_pooling2d_1 (MaxPooling  (None, 20, 20, 128)      0         \n",
            " 2D)                                                             \n",
            "                                                                 \n",
            " conv2d_5 (Conv2D)           (None, 18, 18, 256)       295168    \n",
            "                                                                 \n",
            " conv2d_6 (Conv2D)           (None, 16, 16, 256)       590080    \n",
            "                                                                 \n",
            " conv2d_7 (Conv2D)           (None, 14, 14, 256)       590080    \n",
            "                                                                 \n",
            " max_pooling2d_2 (MaxPooling  (None, 7, 7, 256)        0         \n",
            " 2D)                                                             \n",
            "                                                                 \n",
            " flatten (Flatten)           (None, 12544)             0         \n",
            "                                                                 \n",
            " dense (Dense)               (None, 4096)              51384320  \n",
            "                                                                 \n",
            " dropout (Dropout)           (None, 4096)              0         \n",
            "                                                                 \n",
            " dense_1 (Dense)             (None, 4096)              16781312  \n",
            "                                                                 \n",
            " dropout_1 (Dropout)         (None, 4096)              0         \n",
            "                                                                 \n",
            " dense_2 (Dense)             (None, 2)                 8194      \n",
            "                                                                 \n",
            "=================================================================\n",
            "Total params: 70,056,898\n",
            "Trainable params: 70,056,898\n",
            "Non-trainable params: 0\n",
            "_________________________________________________________________\n"
          ]
        }
      ]
    },
    {
      "cell_type": "code",
      "source": [
        "def train_model_Luna16():\n",
        "  \n",
        "  # model = create_model()\n",
        "  Alexnet_Luna16_model.compile(optimizer='Adam',\n",
        "                loss='sparse_categorical_crossentropy',\n",
        "                metrics=['accuracy'])\n",
        "\n",
        "  logdir = os.path.join(\"logs\", \"Alexnet_model\",datetime.datetime.now().strftime(\"%Y%m%d-%H%M%S\"))\n",
        "  tensorboard_callback = tf.keras.callbacks.TensorBoard(logdir, histogram_freq=1)\n",
        "\n",
        "  Alexnet_Luna16_model.fit(x=X_luna_train, \n",
        "            y=y_luna_train, \n",
        "            epochs=20, \n",
        "            validation_data=(X_luna_test, y_luna_test), \n",
        "            callbacks=[tensorboard_callback])\n",
        "\n",
        "train_model_Luna16()"
      ],
      "metadata": {
        "colab": {
          "base_uri": "https://localhost:8080/"
        },
        "id": "z_bOB35K-ok6",
        "outputId": "2cd42f75-9f1d-4a6e-c562-5804adcaf901"
      },
      "execution_count": null,
      "outputs": [
        {
          "output_type": "stream",
          "name": "stdout",
          "text": [
            "Epoch 1/20\n",
            "38/38 [==============================] - 21s 257ms/step - loss: 1.1811 - accuracy: 0.4966 - val_loss: 0.6932 - val_accuracy: 0.5000\n",
            "Epoch 2/20\n",
            "38/38 [==============================] - 7s 197ms/step - loss: 0.6935 - accuracy: 0.5076 - val_loss: 0.6941 - val_accuracy: 0.5000\n",
            "Epoch 3/20\n",
            "38/38 [==============================] - 7s 195ms/step - loss: 0.6940 - accuracy: 0.5000 - val_loss: 0.6932 - val_accuracy: 0.5000\n",
            "Epoch 4/20\n",
            "38/38 [==============================] - 7s 196ms/step - loss: 0.6933 - accuracy: 0.4958 - val_loss: 0.6931 - val_accuracy: 0.5000\n",
            "Epoch 5/20\n",
            "38/38 [==============================] - 7s 197ms/step - loss: 0.6933 - accuracy: 0.4681 - val_loss: 0.6932 - val_accuracy: 0.5000\n",
            "Epoch 6/20\n",
            "38/38 [==============================] - 7s 196ms/step - loss: 0.6932 - accuracy: 0.4874 - val_loss: 0.6932 - val_accuracy: 0.5000\n",
            "Epoch 7/20\n",
            "38/38 [==============================] - 7s 192ms/step - loss: 0.6932 - accuracy: 0.5000 - val_loss: 0.6932 - val_accuracy: 0.5000\n",
            "Epoch 8/20\n",
            "38/38 [==============================] - 7s 197ms/step - loss: 0.6936 - accuracy: 0.4798 - val_loss: 0.6932 - val_accuracy: 0.5000\n",
            "Epoch 9/20\n",
            "38/38 [==============================] - 7s 198ms/step - loss: 0.6933 - accuracy: 0.4924 - val_loss: 0.6932 - val_accuracy: 0.5000\n",
            "Epoch 10/20\n",
            "38/38 [==============================] - 8s 203ms/step - loss: 0.6932 - accuracy: 0.5000 - val_loss: 0.6932 - val_accuracy: 0.5000\n",
            "Epoch 11/20\n",
            "38/38 [==============================] - 7s 195ms/step - loss: 0.6932 - accuracy: 0.4790 - val_loss: 0.6931 - val_accuracy: 0.5000\n",
            "Epoch 12/20\n",
            "38/38 [==============================] - 7s 197ms/step - loss: 0.6932 - accuracy: 0.4924 - val_loss: 0.6931 - val_accuracy: 0.5000\n",
            "Epoch 13/20\n",
            "38/38 [==============================] - 7s 198ms/step - loss: 0.6932 - accuracy: 0.4866 - val_loss: 0.6931 - val_accuracy: 0.5000\n",
            "Epoch 14/20\n",
            "38/38 [==============================] - 7s 194ms/step - loss: 0.6932 - accuracy: 0.4899 - val_loss: 0.6931 - val_accuracy: 0.5000\n",
            "Epoch 15/20\n",
            "38/38 [==============================] - 7s 197ms/step - loss: 0.6933 - accuracy: 0.4765 - val_loss: 0.6932 - val_accuracy: 0.5000\n",
            "Epoch 16/20\n",
            "38/38 [==============================] - 7s 200ms/step - loss: 0.6933 - accuracy: 0.5000 - val_loss: 0.6932 - val_accuracy: 0.5000\n",
            "Epoch 17/20\n",
            "38/38 [==============================] - 7s 197ms/step - loss: 0.6933 - accuracy: 0.4748 - val_loss: 0.6931 - val_accuracy: 0.5000\n",
            "Epoch 18/20\n",
            "38/38 [==============================] - 7s 197ms/step - loss: 0.6931 - accuracy: 0.5160 - val_loss: 0.6928 - val_accuracy: 0.6216\n",
            "Epoch 19/20\n",
            "38/38 [==============================] - 7s 199ms/step - loss: 0.7358 - accuracy: 0.5151 - val_loss: 0.6944 - val_accuracy: 0.5000\n",
            "Epoch 20/20\n",
            "38/38 [==============================] - 7s 195ms/step - loss: 0.6963 - accuracy: 0.4723 - val_loss: 0.6932 - val_accuracy: 0.5000\n"
          ]
        }
      ]
    },
    {
      "cell_type": "code",
      "source": [
        "Alexnet_Luna16_model.save(\"/content/drive/MyDrive/Ramasubramanya/CNN_Architectures_Model_Save/Alexnet_Luna16_model.h5\")"
      ],
      "metadata": {
        "id": "r_Wyiw_AEvyX"
      },
      "execution_count": null,
      "outputs": []
    },
    {
      "cell_type": "code",
      "source": [
        "# K.clear_session()\n",
        "# gc.collect()\n",
        "\n",
        "# resnet = tf.keras.applications.InceptionV3(\n",
        "#     weights='imagenet',\n",
        "#     include_top=False,\n",
        "#     input_shape=(96,96,3)\n",
        "# )\n",
        "\n",
        "\n",
        " \n",
        "#building Alexnet - v1 Model\n",
        "\n",
        "Alexnet_Luna16_model_SGD = build_model(lr = 1e-6)\n",
        "Alexnet_Luna16_model_SGD.summary()"
      ],
      "metadata": {
        "colab": {
          "base_uri": "https://localhost:8080/"
        },
        "id": "hvtPWVd_DIxN",
        "outputId": "563ef51e-1c4c-4f8b-ad29-d49c5525f1b5"
      },
      "execution_count": null,
      "outputs": [
        {
          "output_type": "stream",
          "name": "stdout",
          "text": [
            "Model: \"sequential_1\"\n",
            "_________________________________________________________________\n",
            " Layer (type)                Output Shape              Param #   \n",
            "=================================================================\n",
            " conv2d_8 (Conv2D)           (None, 94, 94, 64)        1792      \n",
            "                                                                 \n",
            " conv2d_9 (Conv2D)           (None, 92, 92, 64)        36928     \n",
            "                                                                 \n",
            " max_pooling2d_3 (MaxPooling  (None, 46, 46, 64)       0         \n",
            " 2D)                                                             \n",
            "                                                                 \n",
            " conv2d_10 (Conv2D)          (None, 44, 44, 128)       73856     \n",
            "                                                                 \n",
            " conv2d_11 (Conv2D)          (None, 42, 42, 128)       147584    \n",
            "                                                                 \n",
            " conv2d_12 (Conv2D)          (None, 40, 40, 128)       147584    \n",
            "                                                                 \n",
            " max_pooling2d_4 (MaxPooling  (None, 20, 20, 128)      0         \n",
            " 2D)                                                             \n",
            "                                                                 \n",
            " conv2d_13 (Conv2D)          (None, 18, 18, 256)       295168    \n",
            "                                                                 \n",
            " conv2d_14 (Conv2D)          (None, 16, 16, 256)       590080    \n",
            "                                                                 \n",
            " conv2d_15 (Conv2D)          (None, 14, 14, 256)       590080    \n",
            "                                                                 \n",
            " max_pooling2d_5 (MaxPooling  (None, 7, 7, 256)        0         \n",
            " 2D)                                                             \n",
            "                                                                 \n",
            " flatten_1 (Flatten)         (None, 12544)             0         \n",
            "                                                                 \n",
            " dense_3 (Dense)             (None, 4096)              51384320  \n",
            "                                                                 \n",
            " dropout_2 (Dropout)         (None, 4096)              0         \n",
            "                                                                 \n",
            " dense_4 (Dense)             (None, 4096)              16781312  \n",
            "                                                                 \n",
            " dropout_3 (Dropout)         (None, 4096)              0         \n",
            "                                                                 \n",
            " dense_5 (Dense)             (None, 2)                 8194      \n",
            "                                                                 \n",
            "=================================================================\n",
            "Total params: 70,056,898\n",
            "Trainable params: 70,056,898\n",
            "Non-trainable params: 0\n",
            "_________________________________________________________________\n"
          ]
        }
      ]
    },
    {
      "cell_type": "code",
      "source": [
        "def train_model_Luna16():\n",
        "  \n",
        "  # model = create_model()\n",
        "  Alexnet_Luna16_model_SGD.compile(optimizer='SGD',\n",
        "                loss='sparse_categorical_crossentropy',\n",
        "                metrics=['accuracy'])\n",
        "\n",
        "  logdir = os.path.join(\"logs\", \"Alexnet_model_SGD\",datetime.datetime.now().strftime(\"%Y%m%d-%H%M%S\"))\n",
        "  tensorboard_callback = tf.keras.callbacks.TensorBoard(logdir, histogram_freq=1)\n",
        "\n",
        "  Alexnet_Luna16_model_SGD.fit(x=X_luna_train, \n",
        "            y=y_luna_train, \n",
        "            epochs=22, \n",
        "            validation_data=(X_luna_test, y_luna_test), \n",
        "            callbacks=[tensorboard_callback])\n",
        "\n",
        "train_model_Luna16()"
      ],
      "metadata": {
        "colab": {
          "base_uri": "https://localhost:8080/"
        },
        "id": "aHlagvtfC6m6",
        "outputId": "c9ec57b9-5dd0-480e-fa75-ab2b17ce05d9"
      },
      "execution_count": null,
      "outputs": [
        {
          "output_type": "stream",
          "name": "stdout",
          "text": [
            "Epoch 1/22\n",
            "38/38 [==============================] - 8s 200ms/step - loss: 0.6923 - accuracy: 0.5261 - val_loss: 0.6915 - val_accuracy: 0.5020\n",
            "Epoch 2/22\n",
            "38/38 [==============================] - 7s 196ms/step - loss: 0.6909 - accuracy: 0.5092 - val_loss: 0.6899 - val_accuracy: 0.6647\n",
            "Epoch 3/22\n",
            "38/38 [==============================] - 7s 195ms/step - loss: 0.6887 - accuracy: 0.6269 - val_loss: 0.6874 - val_accuracy: 0.6235\n",
            "Epoch 4/22\n",
            "38/38 [==============================] - 7s 194ms/step - loss: 0.6854 - accuracy: 0.6109 - val_loss: 0.6837 - val_accuracy: 0.5471\n",
            "Epoch 5/22\n",
            "38/38 [==============================] - 8s 203ms/step - loss: 0.6802 - accuracy: 0.6286 - val_loss: 0.6778 - val_accuracy: 0.6569\n",
            "Epoch 6/22\n",
            "38/38 [==============================] - 7s 191ms/step - loss: 0.6716 - accuracy: 0.6580 - val_loss: 0.6725 - val_accuracy: 0.5608\n",
            "Epoch 7/22\n",
            "38/38 [==============================] - 7s 196ms/step - loss: 0.6593 - accuracy: 0.6630 - val_loss: 0.6707 - val_accuracy: 0.5647\n",
            "Epoch 8/22\n",
            "38/38 [==============================] - 7s 192ms/step - loss: 0.6445 - accuracy: 0.6866 - val_loss: 0.6289 - val_accuracy: 0.6902\n",
            "Epoch 9/22\n",
            "38/38 [==============================] - 7s 194ms/step - loss: 0.6233 - accuracy: 0.6992 - val_loss: 0.5992 - val_accuracy: 0.7078\n",
            "Epoch 10/22\n",
            "38/38 [==============================] - 7s 197ms/step - loss: 0.6043 - accuracy: 0.6891 - val_loss: 0.6546 - val_accuracy: 0.6765\n",
            "Epoch 11/22\n",
            "38/38 [==============================] - 7s 196ms/step - loss: 0.5879 - accuracy: 0.6958 - val_loss: 1.0019 - val_accuracy: 0.5373\n",
            "Epoch 12/22\n",
            "38/38 [==============================] - 8s 210ms/step - loss: 0.5781 - accuracy: 0.7059 - val_loss: 0.5671 - val_accuracy: 0.7176\n",
            "Epoch 13/22\n",
            "38/38 [==============================] - 7s 194ms/step - loss: 0.5519 - accuracy: 0.7286 - val_loss: 0.5887 - val_accuracy: 0.7157\n",
            "Epoch 14/22\n",
            "38/38 [==============================] - 7s 191ms/step - loss: 0.5377 - accuracy: 0.7378 - val_loss: 0.6091 - val_accuracy: 0.6686\n",
            "Epoch 15/22\n",
            "38/38 [==============================] - 7s 196ms/step - loss: 0.5219 - accuracy: 0.7479 - val_loss: 0.5532 - val_accuracy: 0.7196\n",
            "Epoch 16/22\n",
            "38/38 [==============================] - 7s 194ms/step - loss: 0.5041 - accuracy: 0.7588 - val_loss: 0.5014 - val_accuracy: 0.7608\n",
            "Epoch 17/22\n",
            "38/38 [==============================] - 7s 189ms/step - loss: 0.4785 - accuracy: 0.7723 - val_loss: 0.6654 - val_accuracy: 0.6667\n",
            "Epoch 18/22\n",
            "38/38 [==============================] - 7s 193ms/step - loss: 0.4933 - accuracy: 0.7664 - val_loss: 0.5061 - val_accuracy: 0.7510\n",
            "Epoch 19/22\n",
            "38/38 [==============================] - 7s 195ms/step - loss: 0.4920 - accuracy: 0.7655 - val_loss: 0.4983 - val_accuracy: 0.7451\n",
            "Epoch 20/22\n",
            "38/38 [==============================] - 7s 196ms/step - loss: 0.4632 - accuracy: 0.7849 - val_loss: 0.7747 - val_accuracy: 0.6647\n",
            "Epoch 21/22\n",
            "38/38 [==============================] - 7s 197ms/step - loss: 0.4515 - accuracy: 0.7815 - val_loss: 0.5163 - val_accuracy: 0.7451\n",
            "Epoch 22/22\n",
            "38/38 [==============================] - 7s 194ms/step - loss: 0.4408 - accuracy: 0.7866 - val_loss: 0.5204 - val_accuracy: 0.7392\n"
          ]
        }
      ]
    },
    {
      "cell_type": "code",
      "source": [
        "Alexnet_Luna16_model_SGD.save(\"/content/drive/MyDrive/Ramasubramanya/CNN_Architectures_Model_Save/Alexnet_Luna16_model_SGD_26.h5\")"
      ],
      "metadata": {
        "id": "nn3RniVI5Izq"
      },
      "execution_count": null,
      "outputs": []
    },
    {
      "cell_type": "code",
      "source": [
        "def train_model_Luna16():\n",
        "  \n",
        "  # model = create_model()\n",
        "  Alexnet_Luna16_model.compile(optimizer='SGD',\n",
        "                loss='sparse_categorical_crossentropy',\n",
        "                metrics=['accuracy'])\n",
        "\n",
        "  logdir = os.path.join(\"logs\", \"Alexnet_model\",datetime.datetime.now().strftime(\"%Y%m%d-%H%M%S\"))\n",
        "  tensorboard_callback = tf.keras.callbacks.TensorBoard(logdir, histogram_freq=1)\n",
        "\n",
        "  Alexnet_Luna16_model.fit(x=X_luna_train, \n",
        "            y=y_luna_train, \n",
        "            epochs=20, \n",
        "            validation_data=(X_luna_test, y_luna_test), \n",
        "            callbacks=[tensorboard_callback])\n",
        "\n",
        "train_model_Luna16()"
      ],
      "metadata": {
        "colab": {
          "base_uri": "https://localhost:8080/"
        },
        "id": "hxbbuEDCTnFo",
        "outputId": "d5d010e1-f058-428f-966b-f95a07011407"
      },
      "execution_count": null,
      "outputs": [
        {
          "output_type": "stream",
          "name": "stdout",
          "text": [
            "Epoch 1/20\n",
            "38/38 [==============================] - 24s 252ms/step - loss: 0.6928 - accuracy: 0.5454 - val_loss: 0.6921 - val_accuracy: 0.5000\n",
            "Epoch 2/20\n",
            "38/38 [==============================] - 7s 193ms/step - loss: 0.6914 - accuracy: 0.5252 - val_loss: 0.6907 - val_accuracy: 0.5255\n",
            "Epoch 3/20\n",
            "38/38 [==============================] - 7s 191ms/step - loss: 0.6898 - accuracy: 0.6244 - val_loss: 0.6890 - val_accuracy: 0.5510\n",
            "Epoch 4/20\n",
            "38/38 [==============================] - 7s 190ms/step - loss: 0.6874 - accuracy: 0.5513 - val_loss: 0.6863 - val_accuracy: 0.6098\n",
            "Epoch 5/20\n",
            "38/38 [==============================] - 7s 190ms/step - loss: 0.6837 - accuracy: 0.6513 - val_loss: 0.6825 - val_accuracy: 0.6667\n",
            "Epoch 6/20\n",
            "38/38 [==============================] - 7s 191ms/step - loss: 0.6785 - accuracy: 0.6605 - val_loss: 0.6760 - val_accuracy: 0.6725\n",
            "Epoch 7/20\n",
            "38/38 [==============================] - 7s 200ms/step - loss: 0.6694 - accuracy: 0.6790 - val_loss: 0.6664 - val_accuracy: 0.6549\n",
            "Epoch 8/20\n",
            "38/38 [==============================] - 7s 194ms/step - loss: 0.6569 - accuracy: 0.6857 - val_loss: 0.6517 - val_accuracy: 0.6824\n",
            "Epoch 9/20\n",
            "38/38 [==============================] - 7s 191ms/step - loss: 0.6420 - accuracy: 0.6849 - val_loss: 0.6361 - val_accuracy: 0.6706\n",
            "Epoch 10/20\n",
            "38/38 [==============================] - 7s 195ms/step - loss: 0.6237 - accuracy: 0.6849 - val_loss: 0.6318 - val_accuracy: 0.6784\n",
            "Epoch 11/20\n",
            "38/38 [==============================] - 7s 189ms/step - loss: 0.6026 - accuracy: 0.6958 - val_loss: 0.5885 - val_accuracy: 0.6922\n",
            "Epoch 12/20\n",
            "38/38 [==============================] - 7s 192ms/step - loss: 0.5821 - accuracy: 0.7000 - val_loss: 0.5673 - val_accuracy: 0.7118\n",
            "Epoch 13/20\n",
            "38/38 [==============================] - 7s 192ms/step - loss: 0.5620 - accuracy: 0.7227 - val_loss: 0.6102 - val_accuracy: 0.6765\n",
            "Epoch 14/20\n",
            "38/38 [==============================] - 7s 190ms/step - loss: 0.5522 - accuracy: 0.7353 - val_loss: 0.5544 - val_accuracy: 0.7216\n",
            "Epoch 15/20\n",
            "38/38 [==============================] - 7s 191ms/step - loss: 0.5398 - accuracy: 0.7303 - val_loss: 0.5161 - val_accuracy: 0.7529\n",
            "Epoch 16/20\n",
            "38/38 [==============================] - 7s 188ms/step - loss: 0.5190 - accuracy: 0.7479 - val_loss: 0.5335 - val_accuracy: 0.7216\n",
            "Epoch 17/20\n",
            "38/38 [==============================] - 7s 189ms/step - loss: 0.5074 - accuracy: 0.7605 - val_loss: 0.5116 - val_accuracy: 0.7471\n",
            "Epoch 18/20\n",
            "38/38 [==============================] - 7s 192ms/step - loss: 0.4993 - accuracy: 0.7546 - val_loss: 0.4857 - val_accuracy: 0.7745\n",
            "Epoch 19/20\n",
            "38/38 [==============================] - 7s 192ms/step - loss: 0.4681 - accuracy: 0.7840 - val_loss: 0.5812 - val_accuracy: 0.7118\n",
            "Epoch 20/20\n",
            "38/38 [==============================] - 7s 191ms/step - loss: 0.4578 - accuracy: 0.7840 - val_loss: 0.6899 - val_accuracy: 0.6608\n"
          ]
        }
      ]
    },
    {
      "cell_type": "code",
      "source": [
        "def train_model_Luna16():\n",
        "  \n",
        "  # model = create_model()\n",
        "  Alexnet_Luna16_model.compile(optimizer='SGD',\n",
        "                loss='sparse_categorical_crossentropy',\n",
        "                metrics=['accuracy'])\n",
        "\n",
        "  logdir = os.path.join(\"logs\", \"Alexnet_model\",datetime.datetime.now().strftime(\"%Y%m%d-%H%M%S\"))\n",
        "  tensorboard_callback = tf.keras.callbacks.TensorBoard(logdir, histogram_freq=1)\n",
        "\n",
        "  Alexnet_Luna16_model.fit(x=X_luna_train, \n",
        "            y=y_luna_train, \n",
        "            epochs=20, \n",
        "            validation_data=(X_luna_test, y_luna_test), \n",
        "            callbacks=[tensorboard_callback])\n",
        "\n",
        "train_model_Luna16()"
      ],
      "metadata": {
        "colab": {
          "base_uri": "https://localhost:8080/"
        },
        "id": "VoYEyPSC-LA6",
        "outputId": "6f402a90-c74f-4209-8dcc-058de403100d"
      },
      "execution_count": null,
      "outputs": [
        {
          "output_type": "stream",
          "name": "stdout",
          "text": [
            "Epoch 1/20\n",
            "38/38 [==============================] - 25s 320ms/step - loss: 0.6924 - accuracy: 0.5454 - val_loss: 0.6914 - val_accuracy: 0.5000\n",
            "Epoch 2/20\n",
            "38/38 [==============================] - 8s 222ms/step - loss: 0.6910 - accuracy: 0.5126 - val_loss: 0.6897 - val_accuracy: 0.5745\n",
            "Epoch 3/20\n",
            "38/38 [==============================] - 8s 225ms/step - loss: 0.6891 - accuracy: 0.6218 - val_loss: 0.6876 - val_accuracy: 0.5255\n",
            "Epoch 4/20\n",
            "38/38 [==============================] - 8s 226ms/step - loss: 0.6862 - accuracy: 0.6143 - val_loss: 0.6847 - val_accuracy: 0.6647\n",
            "Epoch 5/20\n",
            "38/38 [==============================] - 8s 226ms/step - loss: 0.6819 - accuracy: 0.6832 - val_loss: 0.6795 - val_accuracy: 0.6137\n",
            "Epoch 6/20\n",
            "38/38 [==============================] - 8s 226ms/step - loss: 0.6747 - accuracy: 0.6555 - val_loss: 0.6713 - val_accuracy: 0.6471\n",
            "Epoch 7/20\n",
            "38/38 [==============================] - 9s 228ms/step - loss: 0.6639 - accuracy: 0.6639 - val_loss: 0.6600 - val_accuracy: 0.6804\n",
            "Epoch 8/20\n",
            "38/38 [==============================] - 8s 226ms/step - loss: 0.6522 - accuracy: 0.6891 - val_loss: 0.6410 - val_accuracy: 0.6784\n",
            "Epoch 9/20\n",
            "38/38 [==============================] - 8s 224ms/step - loss: 0.6304 - accuracy: 0.6882 - val_loss: 0.6336 - val_accuracy: 0.6588\n",
            "Epoch 10/20\n",
            "38/38 [==============================] - 8s 225ms/step - loss: 0.6141 - accuracy: 0.6908 - val_loss: 0.6010 - val_accuracy: 0.6922\n",
            "Epoch 11/20\n",
            "38/38 [==============================] - 8s 227ms/step - loss: 0.5925 - accuracy: 0.6992 - val_loss: 0.9224 - val_accuracy: 0.5353\n",
            "Epoch 12/20\n",
            "38/38 [==============================] - 8s 222ms/step - loss: 0.5874 - accuracy: 0.7134 - val_loss: 0.5842 - val_accuracy: 0.6961\n",
            "Epoch 13/20\n",
            "38/38 [==============================] - 8s 227ms/step - loss: 0.5688 - accuracy: 0.7143 - val_loss: 0.7513 - val_accuracy: 0.6333\n",
            "Epoch 14/20\n",
            "38/38 [==============================] - 8s 226ms/step - loss: 0.5549 - accuracy: 0.7176 - val_loss: 0.5403 - val_accuracy: 0.7275\n",
            "Epoch 15/20\n",
            "38/38 [==============================] - 9s 227ms/step - loss: 0.5404 - accuracy: 0.7185 - val_loss: 0.5393 - val_accuracy: 0.7235\n",
            "Epoch 16/20\n",
            "38/38 [==============================] - 8s 223ms/step - loss: 0.5215 - accuracy: 0.7462 - val_loss: 0.7976 - val_accuracy: 0.5667\n",
            "Epoch 17/20\n",
            "38/38 [==============================] - 8s 220ms/step - loss: 0.5028 - accuracy: 0.7454 - val_loss: 0.7999 - val_accuracy: 0.6431\n",
            "Epoch 18/20\n",
            "38/38 [==============================] - 8s 225ms/step - loss: 0.5034 - accuracy: 0.7714 - val_loss: 0.5601 - val_accuracy: 0.7176\n",
            "Epoch 19/20\n",
            "38/38 [==============================] - 9s 232ms/step - loss: 0.4708 - accuracy: 0.7731 - val_loss: 0.5573 - val_accuracy: 0.7235\n",
            "Epoch 20/20\n",
            "38/38 [==============================] - 8s 225ms/step - loss: 0.4824 - accuracy: 0.7739 - val_loss: 0.5149 - val_accuracy: 0.7627\n"
          ]
        }
      ]
    },
    {
      "cell_type": "code",
      "source": [
        "def train_model1():\n",
        "  \n",
        "  # model = create_model()\n",
        "  Alexnet_model.compile(optimizer='SGD',\n",
        "                loss='sparse_categorical_crossentropy',\n",
        "                metrics=['accuracy'])\n",
        "\n",
        "  logdir = os.path.join(\"logs\", \"Alexnet_model\",datetime.datetime.now().strftime(\"%Y%m%d-%H%M%S\"))\n",
        "  tensorboard_callback = tf.keras.callbacks.TensorBoard(logdir, histogram_freq=1)\n",
        "\n",
        "  Alexnet_model.fit(x=X_luna_train, \n",
        "            y=y_luna_train, \n",
        "            epochs=20, \n",
        "            validation_data=(X_luna_test, y_luna_test), \n",
        "            callbacks=[tensorboard_callback])\n",
        "\n",
        "train_model1()"
      ],
      "metadata": {
        "colab": {
          "base_uri": "https://localhost:8080/"
        },
        "id": "1NxT2o2XDbqL",
        "outputId": "c3d468c2-aa3a-4b61-efb2-368f2c84fc38"
      },
      "execution_count": null,
      "outputs": [
        {
          "output_type": "stream",
          "name": "stdout",
          "text": [
            "Epoch 1/20\n",
            "38/38 [==============================] - 12s 295ms/step - loss: 0.6929 - accuracy: 0.5084 - val_loss: 0.6920 - val_accuracy: 0.5020\n",
            "Epoch 2/20\n",
            "38/38 [==============================] - 13s 348ms/step - loss: 0.6916 - accuracy: 0.5756 - val_loss: 0.6907 - val_accuracy: 0.5471\n",
            "Epoch 3/20\n",
            "38/38 [==============================] - 13s 358ms/step - loss: 0.6902 - accuracy: 0.6160 - val_loss: 0.6890 - val_accuracy: 0.5137\n",
            "Epoch 4/20\n",
            "38/38 [==============================] - 12s 321ms/step - loss: 0.6880 - accuracy: 0.5992 - val_loss: 0.6866 - val_accuracy: 0.6157\n",
            "Epoch 5/20\n",
            "38/38 [==============================] - 11s 308ms/step - loss: 0.6851 - accuracy: 0.6034 - val_loss: 0.6834 - val_accuracy: 0.6706\n",
            "Epoch 6/20\n",
            "38/38 [==============================] - 11s 297ms/step - loss: 0.6799 - accuracy: 0.6857 - val_loss: 0.6781 - val_accuracy: 0.6059\n",
            "Epoch 7/20\n",
            "38/38 [==============================] - 11s 301ms/step - loss: 0.6729 - accuracy: 0.6588 - val_loss: 0.6720 - val_accuracy: 0.6549\n",
            "Epoch 8/20\n",
            "38/38 [==============================] - 11s 293ms/step - loss: 0.6627 - accuracy: 0.6874 - val_loss: 0.6602 - val_accuracy: 0.6608\n",
            "Epoch 9/20\n",
            "38/38 [==============================] - 11s 304ms/step - loss: 0.6494 - accuracy: 0.6916 - val_loss: 0.6443 - val_accuracy: 0.6647\n",
            "Epoch 10/20\n",
            "38/38 [==============================] - 12s 312ms/step - loss: 0.6285 - accuracy: 0.7017 - val_loss: 0.6163 - val_accuracy: 0.6863\n",
            "Epoch 11/20\n",
            "38/38 [==============================] - 12s 311ms/step - loss: 0.6002 - accuracy: 0.7025 - val_loss: 0.5793 - val_accuracy: 0.7098\n",
            "Epoch 12/20\n",
            "38/38 [==============================] - 11s 307ms/step - loss: 0.5871 - accuracy: 0.7084 - val_loss: 0.6096 - val_accuracy: 0.6941\n",
            "Epoch 13/20\n",
            "38/38 [==============================] - 12s 323ms/step - loss: 0.5581 - accuracy: 0.7143 - val_loss: 0.5800 - val_accuracy: 0.6961\n",
            "Epoch 14/20\n",
            "38/38 [==============================] - 11s 305ms/step - loss: 0.5408 - accuracy: 0.7286 - val_loss: 0.8172 - val_accuracy: 0.5490\n",
            "Epoch 15/20\n",
            "38/38 [==============================] - 12s 334ms/step - loss: 0.5404 - accuracy: 0.7261 - val_loss: 0.7112 - val_accuracy: 0.6471\n",
            "Epoch 16/20\n",
            "38/38 [==============================] - 11s 310ms/step - loss: 0.5084 - accuracy: 0.7546 - val_loss: 0.8485 - val_accuracy: 0.5392\n",
            "Epoch 17/20\n",
            "38/38 [==============================] - 12s 312ms/step - loss: 0.5010 - accuracy: 0.7496 - val_loss: 0.6387 - val_accuracy: 0.6588\n",
            "Epoch 18/20\n",
            "38/38 [==============================] - 11s 303ms/step - loss: 0.4868 - accuracy: 0.7563 - val_loss: 0.5479 - val_accuracy: 0.7314\n",
            "Epoch 19/20\n",
            "38/38 [==============================] - 11s 303ms/step - loss: 0.4765 - accuracy: 0.7605 - val_loss: 0.6333 - val_accuracy: 0.6529\n",
            "Epoch 20/20\n",
            "38/38 [==============================] - 11s 307ms/step - loss: 0.4644 - accuracy: 0.7706 - val_loss: 0.5579 - val_accuracy: 0.7235\n"
          ]
        }
      ]
    },
    {
      "cell_type": "code",
      "source": [
        "Alexnet_Luna16_model_SGD"
      ],
      "metadata": {
        "id": "ol2fcxzeFM5T"
      },
      "execution_count": null,
      "outputs": []
    },
    {
      "cell_type": "code",
      "source": [
        "# extract the predicted probabilities\n",
        "p_pred_train = Alexnet_Luna16_model_SGD.predict(X_luna_train)"
      ],
      "metadata": {
        "id": "-AbC1e6JyEh3"
      },
      "execution_count": null,
      "outputs": []
    },
    {
      "cell_type": "code",
      "source": [
        "y_pred_train = np.where(p_pred_train > 0.5, 1, 0)\n",
        "print(y_pred_train)"
      ],
      "metadata": {
        "colab": {
          "base_uri": "https://localhost:8080/"
        },
        "id": "yUPzZ52byFz9",
        "outputId": "9fc81ad0-1fa7-462e-ac41-7e0dfdebb9a2"
      },
      "execution_count": null,
      "outputs": [
        {
          "output_type": "stream",
          "name": "stdout",
          "text": [
            "[[1 0]\n",
            " [0 1]\n",
            " [1 0]\n",
            " ...\n",
            " [1 0]\n",
            " [1 0]\n",
            " [0 1]]\n"
          ]
        }
      ]
    },
    {
      "cell_type": "code",
      "source": [
        "y_luna_train = to_categorical(y_luna_train, num_classes= 2)"
      ],
      "metadata": {
        "id": "Z4gZygHMyHkT"
      },
      "execution_count": null,
      "outputs": []
    },
    {
      "cell_type": "code",
      "source": [
        "import seaborn as sns\n",
        "import matplotlib.pyplot as plt\n",
        "from sklearn.metrics import confusion_matrix\n",
        "\n",
        "T5_lables = ['Benign','Malignant']    \n",
        "\n",
        "ax= plt.subplot()\n",
        "\n",
        "cm = confusion_matrix(np.asarray(y_pred_train).argmax(axis=1), np.asarray(y_luna_train).argmax(axis=1))\n",
        "sns.heatmap(cm, annot=True, fmt='g', ax=ax);  #annot=True to annotate cells, ftm='g' to disable scientific notation\n",
        "\n",
        "# labels, title and ticks\n",
        "ax.set_xlabel('Predicted labels');ax.set_ylabel('True labels'); \n",
        "ax.set_title('Confusion Matrix of Nodule Patches from Luna16 - Train Data'); \n",
        "ax.xaxis.set_ticklabels(T5_lables); ax.yaxis.set_ticklabels(T5_lables);"
      ],
      "metadata": {
        "colab": {
          "base_uri": "https://localhost:8080/",
          "height": 295
        },
        "id": "sIAAK1RGCPvQ",
        "outputId": "6e465c65-b543-4368-d319-c22e3c1085e1"
      },
      "execution_count": null,
      "outputs": [
        {
          "output_type": "display_data",
          "data": {
            "text/plain": [
              "<Figure size 432x288 with 2 Axes>"
            ],
            "image/png": "[encoded data removed]"
          },
          "metadata": {
            "needs_background": "light"
          }
        }
      ]
    },
    {
      "cell_type": "code",
      "source": [
        "import seaborn as sns\n",
        "import matplotlib.pyplot as plt\n",
        "from sklearn.metrics import confusion_matrix\n",
        "\n",
        "T5_lables = ['Benign','Malignant']    \n",
        "\n",
        "ax= plt.subplot()\n",
        "\n",
        "cm = confusion_matrix(np.asarray(y_pred_train).argmax(axis=1), np.asarray(y_luna_train).argmax(axis=1))\n",
        "sns.heatmap(cm, annot=True, fmt='g', ax=ax);  #annot=True to annotate cells, ftm='g' to disable scientific notation\n",
        "\n",
        "# labels, title and ticks\n",
        "ax.set_xlabel('Predicted labels');ax.set_ylabel('True labels'); \n",
        "ax.set_title('Confusion Matrix of Nodule Patches from Luna16 - Train Data'); \n",
        "ax.xaxis.set_ticklabels(T5_lables); ax.yaxis.set_ticklabels(T5_lables);"
      ],
      "metadata": {
        "colab": {
          "base_uri": "https://localhost:8080/",
          "height": 295
        },
        "id": "P61gPVfh_NbH",
        "outputId": "3e2804a8-7c3a-472d-bb00-a2037c527c26"
      },
      "execution_count": null,
      "outputs": [
        {
          "output_type": "display_data",
          "data": {
            "text/plain": [
              "<Figure size 432x288 with 2 Axes>"
            ],
            "image/png": "[encoded data removed]"
          },
          "metadata": {
            "needs_background": "light"
          }
        }
      ]
    },
    {
      "cell_type": "code",
      "source": [
        "# extract the predicted probabilities\n",
        "p_pred_test = Alexnet_Luna16_model_SGD.predict(X_luna_test)"
      ],
      "metadata": {
        "id": "uemWtiqobrlc"
      },
      "execution_count": null,
      "outputs": []
    },
    {
      "cell_type": "code",
      "source": [
        "y_pred_test = np.where(p_pred_test > 0.5, 1, 0)\n",
        "print(y_pred_test)"
      ],
      "metadata": {
        "colab": {
          "base_uri": "https://localhost:8080/"
        },
        "id": "BRd0QC-Mbr5e",
        "outputId": "e528f274-727a-449f-fd61-2703545dbaa1"
      },
      "execution_count": null,
      "outputs": [
        {
          "output_type": "stream",
          "name": "stdout",
          "text": [
            "[[1 0]\n",
            " [1 0]\n",
            " [1 0]\n",
            " ...\n",
            " [1 0]\n",
            " [0 1]\n",
            " [1 0]]\n"
          ]
        }
      ]
    },
    {
      "cell_type": "code",
      "source": [
        "y_luna_test = to_categorical(y_luna_test, num_classes= 2)"
      ],
      "metadata": {
        "id": "uBg71mnyckT7"
      },
      "execution_count": null,
      "outputs": []
    },
    {
      "cell_type": "code",
      "source": [
        "import seaborn as sns\n",
        "import matplotlib.pyplot as plt\n",
        "from sklearn.metrics import confusion_matrix\n",
        "\n",
        "T5_lables = ['benign','malignant']    \n",
        "\n",
        "ax= plt.subplot()\n",
        "\n",
        "cm = confusion_matrix(np.asarray(y_pred_test).argmax(axis=1), np.asarray(y_luna_test).argmax(axis=1))\n",
        "sns.heatmap(cm, annot=True, fmt='g', ax=ax);  #annot=True to annotate cells, ftm='g' to disable scientific notation\n",
        "\n",
        "# labels, title and ticks\n",
        "ax.set_xlabel('Predicted labels');ax.set_ylabel('True labels'); \n",
        "ax.set_title('Confusion Matrix of nodule patches from Luna16 - Test Data'); \n",
        "ax.xaxis.set_ticklabels(T5_lables); ax.yaxis.set_ticklabels(T5_lables);"
      ],
      "metadata": {
        "colab": {
          "base_uri": "https://localhost:8080/",
          "height": 295
        },
        "id": "9gRvvk6B_gUl",
        "outputId": "066bfb79-a445-4c3a-9df9-4caaa08ba4ae"
      },
      "execution_count": null,
      "outputs": [
        {
          "output_type": "display_data",
          "data": {
            "text/plain": [
              "<Figure size 432x288 with 2 Axes>"
            ],
            "image/png": "[encoded data removed]"
          },
          "metadata": {
            "needs_background": "light"
          }
        }
      ]
    },
    {
      "cell_type": "code",
      "source": [
        "!tensorboard dev upload --logdir logs"
      ],
      "metadata": {
        "colab": {
          "base_uri": "https://localhost:8080/"
        },
        "id": "FSz00LLnBCqC",
        "outputId": "9ec2a002-156d-4497-cb89-6ed9e3722635"
      },
      "execution_count": null,
      "outputs": [
        {
          "output_type": "stream",
          "name": "stdout",
          "text": [
            "Upload started and will continue reading any new data as it's added to the logdir.\n",
            "\n",
            "To stop uploading, press Ctrl-C.\n",
            "\n",
            "New experiment created. View your TensorBoard at: https://tensorboard.dev/experiment/fQ1oI2liQ4y0c3IB40qlrQ/\n",
            "\n",
            "\u001b[1m[2022-07-26T10:46:17]\u001b[0m Started scanning logdir.\n",
            "\u001b[1m[2022-07-26T10:46:20]\u001b[0m Total uploaded: 252 scalars, 924 tensors (663.9 kB), 2 binary objects (150.6 kB)\n",
            "Traceback (most recent call last):\n",
            "  File \"/usr/local/bin/tensorboard\", line 8, in <module>\n",
            "    sys.exit(run_main())\n",
            "  File \"/usr/local/lib/python3.7/dist-packages/tensorboard/main.py\", line 46, in run_main\n",
            "    app.run(tensorboard.main, flags_parser=tensorboard.configure)\n",
            "  File \"/usr/local/lib/python3.7/dist-packages/absl/app.py\", line 308, in run\n",
            "    _run_main(main, args)\n",
            "  File \"/usr/local/lib/python3.7/dist-packages/absl/app.py\", line 254, in _run_main\n",
            "    sys.exit(main(argv))\n",
            "  File \"/usr/local/lib/python3.7/dist-packages/tensorboard/program.py\", line 276, in main\n",
            "    return runner(self.flags) or 0\n",
            "  File \"/usr/local/lib/python3.7/dist-packages/tensorboard/uploader/uploader_subcommand.py\", line 692, in run\n",
            "    return _run(flags, self._experiment_url_callback)\n",
            "  File \"/usr/local/lib/python3.7/dist-packages/tensorboard/uploader/uploader_subcommand.py\", line 125, in _run\n",
            "    intent.execute(server_info, channel)\n",
            "  File \"/usr/local/lib/python3.7/dist-packages/tensorboard/uploader/uploader_subcommand.py\", line 506, in execute\n",
            "    if not self.dry_run and uploader.has_data():\n",
            "  File \"/usr/local/lib/python3.7/dist-packages/tensorboard/uploader/uploader.py\", line 162, in has_data\n",
            "    return self._tracker.has_data()\n",
            "  File \"/usr/local/lib/python3.7/dist-packages/tensorboard/uploader/upload_tracker.py\", line 303, in has_data\n",
            "    return self._stats.has_data()\n",
            "KeyboardInterrupt\n"
          ]
        }
      ]
    },
    {
      "cell_type": "code",
      "source": [
        "pip install visualkeras"
      ],
      "metadata": {
        "colab": {
          "base_uri": "https://localhost:8080/"
        },
        "id": "8_VNVlElBKyg",
        "outputId": "1e1ef24c-eeb9-44ea-da61-3c100b79344f"
      },
      "execution_count": null,
      "outputs": [
        {
          "output_type": "stream",
          "name": "stdout",
          "text": [
            "Looking in indexes: https://pypi.org/simple, https://us-python.pkg.dev/colab-wheels/public/simple/\n",
            "Requirement already satisfied: visualkeras in /usr/local/lib/python3.7/dist-packages (0.0.2)\n",
            "Requirement already satisfied: numpy>=1.18.1 in /usr/local/lib/python3.7/dist-packages (from visualkeras) (1.21.6)\n",
            "Requirement already satisfied: aggdraw>=1.3.11 in /usr/local/lib/python3.7/dist-packages (from visualkeras) (1.3.15)\n",
            "Requirement already satisfied: pillow>=6.2.0 in /usr/local/lib/python3.7/dist-packages (from visualkeras) (7.1.2)\n"
          ]
        }
      ]
    },
    {
      "cell_type": "code",
      "source": [
        "import visualkeras\n",
        "visualkeras.layered_view(Alexnet_Luna16_model)"
      ],
      "metadata": {
        "colab": {
          "base_uri": "https://localhost:8080/",
          "height": 281
        },
        "id": "Le60yf9MBK1_",
        "outputId": "cb88a1bc-4480-4eb3-f209-ff792542a5d4"
      },
      "execution_count": null,
      "outputs": [
        {
          "output_type": "execute_result",
          "data": {
            "text/plain": [
              "<PIL.Image.Image image mode=RGBA size=2509x502 at 0x7F5C8EE9BA50>"
            ],
            "image/png": "[encoded data removed]"
          },
          "metadata": {},
          "execution_count": 136
        }
      ]
    },
    {
      "cell_type": "code",
      "source": [
        "luna_cancer_data = np.load('/content/drive/MyDrive/Ramasubramanya/LotusFeet/cancernodule_image_900_96_96_patches.npy')\n",
        "testing_luna_cancer_data = luna_cancer_data[850:]\n",
        "print(testing_luna_cancer_data.shape, testing_luna_cancer_data[0].shape)"
      ],
      "metadata": {
        "colab": {
          "base_uri": "https://localhost:8080/"
        },
        "id": "ozEY-o_9_auz",
        "outputId": "8602ca0f-19b5-4240-e82e-26c7bc547a9d"
      },
      "execution_count": null,
      "outputs": [
        {
          "output_type": "stream",
          "name": "stdout",
          "text": [
            "(50, 96, 96, 1) (96, 96, 1)\n"
          ]
        }
      ]
    },
    {
      "cell_type": "code",
      "source": [
        "testing_luna_cancer_data = testing_luna_cancer_data.reshape(50,96,96)\n",
        "testing_luna_cancer_data_rgb = np.repeat(testing_luna_cancer_data[..., np.newaxis], 3, -1)\n",
        "print(testing_luna_cancer_data_rgb.shape, testing_luna_cancer_data_rgb[0].shape)"
      ],
      "metadata": {
        "colab": {
          "base_uri": "https://localhost:8080/"
        },
        "id": "xs1dElyC_tG_",
        "outputId": "5ee3e6f3-9cdc-4aba-ed44-7cc1b1e65da2"
      },
      "execution_count": null,
      "outputs": [
        {
          "output_type": "stream",
          "name": "stdout",
          "text": [
            "(50, 96, 96, 3) (96, 96, 3)\n"
          ]
        }
      ]
    },
    {
      "cell_type": "code",
      "source": [
        "luna_non_cancer_data = np.load(\"/content/drive/MyDrive/Ramasubramanya/LotusFeet/non_cancernodule_image_1400_96_96_patches.npy\")\n",
        "testing_luna_non_cancer_data = luna_non_cancer_data[850:900]\n",
        "print(testing_luna_non_cancer_data.shape, testing_luna_non_cancer_data[0].shape)"
      ],
      "metadata": {
        "colab": {
          "base_uri": "https://localhost:8080/"
        },
        "id": "xI-0Jn-G_tKC",
        "outputId": "9bcbdc59-38c5-43fc-97bd-471a60d53ce0"
      },
      "execution_count": null,
      "outputs": [
        {
          "output_type": "stream",
          "name": "stdout",
          "text": [
            "(50, 96, 96, 1) (96, 96, 1)\n"
          ]
        }
      ]
    },
    {
      "cell_type": "code",
      "source": [
        "testing_luna_non_cancer_data = testing_luna_non_cancer_data.reshape(50,96,96)\n",
        "testing_luna_non_cancer_data_rgb = np.repeat(testing_luna_non_cancer_data[..., np.newaxis], 3, -1)\n",
        "print(testing_luna_non_cancer_data_rgb.shape, testing_luna_non_cancer_data_rgb[0].shape)"
      ],
      "metadata": {
        "colab": {
          "base_uri": "https://localhost:8080/"
        },
        "id": "FC8q0evQ_tM9",
        "outputId": "57bcdf45-4fda-4a0d-e669-44742ca66eb1"
      },
      "execution_count": null,
      "outputs": [
        {
          "output_type": "stream",
          "name": "stdout",
          "text": [
            "(50, 96, 96, 3) (96, 96, 3)\n"
          ]
        }
      ]
    },
    {
      "cell_type": "code",
      "source": [
        "X_lunas = np.concatenate((testing_luna_cancer_data_rgb,testing_luna_non_cancer_data_rgb), axis = 0)\n",
        "print(X_lunas.shape, X_lunas[0].shape)"
      ],
      "metadata": {
        "colab": {
          "base_uri": "https://localhost:8080/"
        },
        "id": "OxRtzB_B_tPJ",
        "outputId": "d8d660c8-a478-4e10-bd3b-e8ee2b2ef040"
      },
      "execution_count": null,
      "outputs": [
        {
          "output_type": "stream",
          "name": "stdout",
          "text": [
            "(100, 96, 96, 3) (96, 96, 3)\n"
          ]
        }
      ]
    },
    {
      "cell_type": "code",
      "source": [
        "testing_cancer_labels = np.ones(50)\n",
        "testing_noncancer_labels = np.zeros(50)\n",
        "Y_lunas = np.concatenate((testing_cancer_labels,testing_noncancer_labels), axis = 0)"
      ],
      "metadata": {
        "id": "fq5vhysC_tS7"
      },
      "execution_count": null,
      "outputs": []
    },
    {
      "cell_type": "code",
      "source": [
        "# extract the predicted probabilities\n",
        "p_pred_tests = Alexnet_Luna16_model_SGD.predict(X_lunas)"
      ],
      "metadata": {
        "id": "_WGisIYx_tVf"
      },
      "execution_count": null,
      "outputs": []
    },
    {
      "cell_type": "code",
      "source": [
        "y_pred_tests = np.where(p_pred_tests > 0.5, 1, 0)\n",
        "print(y_pred_tests)"
      ],
      "metadata": {
        "colab": {
          "base_uri": "https://localhost:8080/"
        },
        "id": "wWE5byYlAxpF",
        "outputId": "e9571f4e-a064-44ab-9d0e-0319ff4354c8"
      },
      "execution_count": null,
      "outputs": [
        {
          "output_type": "stream",
          "name": "stdout",
          "text": [
            "[[1 0]\n",
            " [0 1]\n",
            " [0 1]\n",
            " [1 0]\n",
            " [0 1]\n",
            " [0 1]\n",
            " [0 1]\n",
            " [0 1]\n",
            " [0 1]\n",
            " [0 1]\n",
            " [0 1]\n",
            " [0 1]\n",
            " [0 1]\n",
            " [0 1]\n",
            " [0 1]\n",
            " [0 1]\n",
            " [0 1]\n",
            " [0 1]\n",
            " [0 1]\n",
            " [0 1]\n",
            " [0 1]\n",
            " [0 1]\n",
            " [0 1]\n",
            " [0 1]\n",
            " [0 1]\n",
            " [1 0]\n",
            " [0 1]\n",
            " [1 0]\n",
            " [0 1]\n",
            " [0 1]\n",
            " [0 1]\n",
            " [0 0]\n",
            " [0 1]\n",
            " [0 1]\n",
            " [0 1]\n",
            " [0 1]\n",
            " [0 0]\n",
            " [0 1]\n",
            " [0 1]\n",
            " [0 1]\n",
            " [0 1]\n",
            " [0 1]\n",
            " [0 1]\n",
            " [0 1]\n",
            " [0 1]\n",
            " [0 1]\n",
            " [1 0]\n",
            " [1 0]\n",
            " [1 1]\n",
            " [0 1]\n",
            " [1 0]\n",
            " [1 0]\n",
            " [1 0]\n",
            " [1 0]\n",
            " [1 0]\n",
            " [1 0]\n",
            " [1 0]\n",
            " [1 0]\n",
            " [1 0]\n",
            " [1 0]\n",
            " [1 0]\n",
            " [0 1]\n",
            " [1 0]\n",
            " [1 0]\n",
            " [1 0]\n",
            " [1 0]\n",
            " [1 0]\n",
            " [1 0]\n",
            " [1 0]\n",
            " [1 0]\n",
            " [1 0]\n",
            " [1 0]\n",
            " [1 0]\n",
            " [1 0]\n",
            " [1 0]\n",
            " [1 0]\n",
            " [1 0]\n",
            " [0 1]\n",
            " [1 0]\n",
            " [1 0]\n",
            " [1 0]\n",
            " [1 0]\n",
            " [1 0]\n",
            " [1 0]\n",
            " [1 0]\n",
            " [1 0]\n",
            " [1 0]\n",
            " [1 0]\n",
            " [1 0]\n",
            " [1 0]\n",
            " [0 1]\n",
            " [1 0]\n",
            " [1 0]\n",
            " [1 0]\n",
            " [1 0]\n",
            " [1 0]\n",
            " [0 0]\n",
            " [0 1]\n",
            " [1 0]\n",
            " [1 0]]\n"
          ]
        }
      ]
    },
    {
      "cell_type": "code",
      "source": [
        "Y_lunas = to_categorical(Y_lunas, num_classes= 2)"
      ],
      "metadata": {
        "id": "U-uw2e1oBIjo"
      },
      "execution_count": null,
      "outputs": []
    },
    {
      "cell_type": "code",
      "source": [
        "import seaborn as sns\n",
        "import matplotlib.pyplot as plt\n",
        "from sklearn.metrics import confusion_matrix\n",
        "\n",
        "T5_lables = ['benign','malignant']    \n",
        "\n",
        "ax= plt.subplot()\n",
        "\n",
        "cm = confusion_matrix(np.asarray(y_pred_tests).argmax(axis=1), np.asarray(Y_lunas).argmax(axis=1))\n",
        "sns.heatmap(cm, annot=True, fmt='g', ax=ax);  #annot=True to annotate cells, ftm='g' to disable scientific notation\n",
        "\n",
        "# labels, title and ticks\n",
        "ax.set_xlabel('Predicted labels');ax.set_ylabel('True labels'); \n",
        "ax.set_title('Confusion Matrix of nodule patches from Luna16 - Validation Data'); \n",
        "ax.xaxis.set_ticklabels(T5_lables); ax.yaxis.set_ticklabels(T5_lables);"
      ],
      "metadata": {
        "colab": {
          "base_uri": "https://localhost:8080/",
          "height": 295
        },
        "id": "3KQtdDzkT_WT",
        "outputId": "ecaee244-f8b5-494f-c187-d7b470a8d788"
      },
      "execution_count": null,
      "outputs": [
        {
          "output_type": "display_data",
          "data": {
            "text/plain": [
              "<Figure size 432x288 with 2 Axes>"
            ],
            "image/png": "[encoded data removed]"
          },
          "metadata": {
            "needs_background": "light"
          }
        }
      ]
    },
    {
      "cell_type": "code",
      "source": [
        "from sklearn.metrics import roc_curve\n",
        "p_pred_train = Alexnet_Luna16_model_SGD.predict(X_luna_train)\n",
        "fpr_train, tpr_train, thresholds_train = roc_curve(np.asarray(y_luna_train).argmax(axis=1), np.asarray(p_pred_train).argmax(axis=1))"
      ],
      "metadata": {
        "id": "sb78H4avAtpa"
      },
      "execution_count": null,
      "outputs": []
    },
    {
      "cell_type": "code",
      "source": [
        "from sklearn.metrics import auc\n",
        "auc_keras = auc(fpr_train, tpr_train)"
      ],
      "metadata": {
        "id": "eSPw7VFzA4Ib"
      },
      "execution_count": null,
      "outputs": []
    },
    {
      "cell_type": "code",
      "source": [
        "fpr_train = dict()\n",
        "tpr_train = dict()\n",
        "roc_auc = dict()\n",
        "for i in range(2):\n",
        "    fpr_train[i], tpr_train[i], _ = roc_curve(y_luna_train[:, i], p_pred_train[:, i])\n",
        "    roc_auc[i] = auc(fpr_train[i], tpr_train[i])\n",
        "\n",
        "# Compute micro-average ROC curve and ROC area\n",
        "# fpr_train[\"micro\"], tpr_train[\"micro\"], _ = roc_curve(y_luna_train.ravel(), p_pred_train.ravel())\n",
        "# roc_auc[\"micro\"] = auc(fpr_train[\"micro\"], tpr_train[\"micro\"])"
      ],
      "metadata": {
        "id": "f0js2hjtA4K3"
      },
      "execution_count": null,
      "outputs": []
    },
    {
      "cell_type": "code",
      "source": [
        "from sklearn.metrics import roc_curve\n",
        "p_pred_test = Alexnet_Luna16_model_SGD.predict(X_luna_test)\n",
        "fpr_test, tpr_test, thresholds_rf = roc_curve(np.asarray(y_luna_test).argmax(axis=1), np.asarray(p_pred_test).argmax(axis=1))"
      ],
      "metadata": {
        "id": "AZ2bG87IA4NU"
      },
      "execution_count": null,
      "outputs": []
    },
    {
      "cell_type": "code",
      "source": [
        "from sklearn.metrics import auc\n",
        "auc_rf = auc(fpr_test, tpr_test)"
      ],
      "metadata": {
        "id": "8aDU0B1XA4Pu"
      },
      "execution_count": null,
      "outputs": []
    },
    {
      "cell_type": "code",
      "source": [
        "fpr_te = dict()\n",
        "tpr_te = dict()\n",
        "roc_auc_te = dict()\n",
        "for i in range(2):\n",
        "    fpr_te[i], tpr_te[i], _ = roc_curve(y_luna_test[:, i], p_pred_test[:, i])\n",
        "    roc_auc_te[i] = auc(fpr_te[i], tpr_te[i])\n",
        "\n",
        "# Compute micro-average ROC curve and ROC area\n",
        "# fpr_te[\"micro\"], tpr_te[\"micro\"], _ = roc_curve(y_luna_test.ravel(), p_pred_test.ravel())\n",
        "# roc_auc_te[\"micro\"] = auc(fpr_te[\"micro\"], tpr_te[\"micro\"])"
      ],
      "metadata": {
        "id": "BAK16yR6A4R_"
      },
      "execution_count": null,
      "outputs": []
    },
    {
      "cell_type": "code",
      "source": [
        "from sklearn.metrics import roc_curve\n",
        "p_pred_val = Alexnet_Luna16_model_SGD.predict(X_lunas)\n",
        "fpr_rff, tpr_rff, thresholds_rf = roc_curve(np.asarray(Y_lunas).argmax(axis=1), np.asarray(p_pred_val).argmax(axis=1))"
      ],
      "metadata": {
        "id": "QkWBIt_OAtr3"
      },
      "execution_count": null,
      "outputs": []
    },
    {
      "cell_type": "code",
      "source": [
        "from sklearn.metrics import auc\n",
        "auc_rff = auc(fpr_rff, tpr_rff)"
      ],
      "metadata": {
        "id": "qwIxpG55BEqW"
      },
      "execution_count": null,
      "outputs": []
    },
    {
      "cell_type": "code",
      "source": [
        "fpr_va = dict()\n",
        "tpr_va = dict()\n",
        "roc_auc_va = dict()\n",
        "for i in range(2):\n",
        "    fpr_va[i], tpr_va[i], _ = roc_curve(Y_lunas[:, i], p_pred_val[:, i])\n",
        "    roc_auc[i] = auc(fpr_va[i], fpr_va[i])\n",
        "\n",
        "# Compute micro-average ROC curve and ROC area\n",
        "# fpr_va[\"micro\"], tpr_va[\"micro\"], _ = roc_curve(Y_lunas.ravel(), p_pred_val.ravel())\n",
        "# roc_auc_va[\"micro\"] = auc(fpr_va[\"micro\"], tpr_va[\"micro\"])"
      ],
      "metadata": {
        "id": "TRV_4PJYBEuF"
      },
      "execution_count": null,
      "outputs": []
    },
    {
      "cell_type": "code",
      "source": [
        "plt.figure()\n",
        "lw = 2\n",
        "plt.plot(\n",
        "    fpr_train[1],\n",
        "    tpr_train[1],\n",
        "    color=\"darkred\",\n",
        "    lw=lw,\n",
        "    label=\"Training Data\" ,\n",
        ")\n",
        "plt.plot(\n",
        "    fpr_te[1],\n",
        "    tpr_te[1],\n",
        "    color=\"darkorange\",\n",
        "    lw=lw,\n",
        "    label=\"Testing Data\",\n",
        ")\n",
        "plt.plot(\n",
        "    fpr_va[0],\n",
        "    tpr_va[0],\n",
        "    color=\"darkgreen\",\n",
        "    lw=lw,\n",
        "    label=\"Validation Test\",\n",
        ")\n",
        "plt.plot([0, 1], [0, 1], color=\"navy\", lw=lw, linestyle=\"--\")\n",
        "plt.xlim([0.0, 1.0])\n",
        "plt.ylim([0.0, 1.05])\n",
        "plt.xlabel(\"False Positive Rate\")\n",
        "plt.ylabel(\"True Positive Rate\")\n",
        "plt.title(\"ROC curve - AlexNet - Luna16 Nodule Patches - SGD\")\n",
        "plt.legend(loc=\"lower right\")\n",
        "plt.show()"
      ],
      "metadata": {
        "colab": {
          "base_uri": "https://localhost:8080/",
          "height": 295
        },
        "id": "4mZrKkwdBExG",
        "outputId": "53a3a5d0-6bdd-4060-d4d1-38eb6fa0fa30"
      },
      "execution_count": null,
      "outputs": [
        {
          "output_type": "display_data",
          "data": {
            "text/plain": [
              "<Figure size 432x288 with 1 Axes>"
            ],
            "image/png": "[encoded data removed]"
          },
          "metadata": {
            "needs_background": "light"
          }
        }
      ]
    },
    {
      "cell_type": "code",
      "source": [
        "plt.figure()\n",
        "lw = 2\n",
        "plt.plot(\n",
        "    fpr_train[1],\n",
        "    tpr_train[1],\n",
        "    color=\"darkred\",\n",
        "    lw=lw,\n",
        "    label=\"Training Data\" ,\n",
        ")\n",
        "plt.plot(\n",
        "    fpr_te[1],\n",
        "    tpr_te[1],\n",
        "    color=\"darkorange\",\n",
        "    lw=lw,\n",
        "    label=\"Testing Data\",\n",
        ")\n",
        "plt.plot(\n",
        "    fpr_va[0],\n",
        "    tpr_va[0],\n",
        "    color=\"darkgreen\",\n",
        "    lw=lw,\n",
        "    label=\"Validation Test\",\n",
        ")\n",
        "plt.plot([0, 1], [0, 1], color=\"navy\", lw=lw, linestyle=\"--\")\n",
        "plt.xlim([0.0, 1.0])\n",
        "plt.ylim([0.0, 1.05])\n",
        "plt.xlabel(\"False Positive Rate\")\n",
        "plt.ylabel(\"True Positive Rate\")\n",
        "plt.title(\"ROC curve - AlexNet - Luna16 Nodule Patches - SGD\")\n",
        "plt.legend(loc=\"lower right\")\n",
        "plt.show()"
      ],
      "metadata": {
        "colab": {
          "base_uri": "https://localhost:8080/",
          "height": 295
        },
        "id": "DFrJHBGyHuN2",
        "outputId": "219aa529-da11-4fc8-de90-1659d29e523e"
      },
      "execution_count": null,
      "outputs": [
        {
          "output_type": "display_data",
          "data": {
            "text/plain": [
              "<Figure size 432x288 with 1 Axes>"
            ],
            "image/png": "[encoded data removed]"
          },
          "metadata": {
            "needs_background": "light"
          }
        }
      ]
    },
    {
      "cell_type": "code",
      "source": [
        "from sklearn.metrics import classification_report\n",
        "print(classification_report( np.argmax(y_luna_train, axis=1), np.argmax(y_pred_train, axis=1)))"
      ],
      "metadata": {
        "colab": {
          "base_uri": "https://localhost:8080/"
        },
        "id": "gxiA6S_pBE4F",
        "outputId": "733dd912-f936-491a-e1a1-7d4cfe4e5f3b"
      },
      "execution_count": null,
      "outputs": [
        {
          "output_type": "stream",
          "name": "stdout",
          "text": [
            "              precision    recall  f1-score   support\n",
            "\n",
            "           0       0.70      0.98      0.82       595\n",
            "           1       0.96      0.58      0.72       595\n",
            "\n",
            "    accuracy                           0.78      1190\n",
            "   macro avg       0.83      0.78      0.77      1190\n",
            "weighted avg       0.83      0.78      0.77      1190\n",
            "\n"
          ]
        }
      ]
    },
    {
      "cell_type": "code",
      "source": [
        "from sklearn.metrics import classification_report\n",
        "print(classification_report( np.argmax(y_luna_train, axis=1), np.argmax(y_pred_train, axis=1)))"
      ],
      "metadata": {
        "colab": {
          "base_uri": "https://localhost:8080/"
        },
        "id": "oYJCLt0IG5-L",
        "outputId": "c5ad2e9a-f154-4b32-fb1e-d47b87e81b1e"
      },
      "execution_count": null,
      "outputs": [
        {
          "output_type": "stream",
          "name": "stdout",
          "text": [
            "              precision    recall  f1-score   support\n",
            "\n",
            "           0       0.70      0.98      0.82       595\n",
            "           1       0.96      0.58      0.72       595\n",
            "\n",
            "    accuracy                           0.78      1190\n",
            "   macro avg       0.83      0.78      0.77      1190\n",
            "weighted avg       0.83      0.78      0.77      1190\n",
            "\n"
          ]
        }
      ]
    },
    {
      "cell_type": "code",
      "source": [
        "GAN_Noncancer = np.load('/content/drive/My Drive/yazy/noncancer_lung_04Jun/output/generated_noncancer_nodules_2k_96x96.npy')\n",
        "GAN_Cancer = np.load('/content/drive/MyDrive/yazy/cancer_lung_29May/output/generated_cancer_nodules_2k_96x96.npy')\n",
        "print(GAN_Cancer.shape,GAN_Noncancer.shape,GAN_Cancer[0].shape,GAN_Noncancer[0].shape)"
      ],
      "metadata": {
        "colab": {
          "base_uri": "https://localhost:8080/"
        },
        "id": "HL1EQktx0LCu",
        "outputId": "948a0a13-af5d-462f-e42c-b1b25c6e1277"
      },
      "execution_count": null,
      "outputs": [
        {
          "output_type": "stream",
          "name": "stdout",
          "text": [
            "(2000, 96, 96, 3) (2000, 96, 96, 3) (96, 96, 3) (96, 96, 3)\n"
          ]
        }
      ]
    },
    {
      "cell_type": "code",
      "source": [
        "GAN_Cancer = GAN_Cancer[:1700]\n",
        "GAN_Noncancer = GAN_Noncancer[:1700]\n",
        "print(GAN_Cancer.shape,GAN_Noncancer.shape,GAN_Cancer[0].shape,GAN_Noncancer[0].shape)"
      ],
      "metadata": {
        "colab": {
          "base_uri": "https://localhost:8080/"
        },
        "id": "UL8mJzPk4ASz",
        "outputId": "26a3efcb-d603-4f8c-c641-9c89160fa3ba"
      },
      "execution_count": null,
      "outputs": [
        {
          "output_type": "stream",
          "name": "stdout",
          "text": [
            "(1700, 96, 96, 3) (1700, 96, 96, 3) (96, 96, 3) (96, 96, 3)\n"
          ]
        }
      ]
    },
    {
      "cell_type": "code",
      "source": [
        "X_GAN = np.concatenate((GAN_Cancer, GAN_Noncancer), axis = 0)\n",
        "Y_GAN = np.concatenate((np.ones(1700), np.zeros(1700)), axis = 0)\n",
        "print(X_GAN.shape, Y_GAN.shape)"
      ],
      "metadata": {
        "colab": {
          "base_uri": "https://localhost:8080/"
        },
        "id": "ywe3PFzI0LL0",
        "outputId": "3d474adc-9b27-4baa-943b-e4d1aafd52f8"
      },
      "execution_count": null,
      "outputs": [
        {
          "output_type": "stream",
          "name": "stdout",
          "text": [
            "(3400, 96, 96, 3) (3400,)\n"
          ]
        }
      ]
    },
    {
      "cell_type": "code",
      "source": [
        "from sklearn.model_selection import train_test_split\n",
        "(X_GANtrain, X_GANtest, y_GANtrain, y_GANtest) = train_test_split(X_GAN, Y_GAN,test_size=0.3, stratify=Y_GAN, random_state=42)"
      ],
      "metadata": {
        "id": "OglbC_6j0oe6"
      },
      "execution_count": null,
      "outputs": []
    },
    {
      "cell_type": "code",
      "source": [
        "print(X_GANtrain.shape, X_GANtest.shape, y_GANtrain.shape, y_GANtest.shape)"
      ],
      "metadata": {
        "colab": {
          "base_uri": "https://localhost:8080/"
        },
        "id": "Yx7uKz2Q0ohP",
        "outputId": "10ece95d-cbd3-4181-82c5-e81c1b7a5023"
      },
      "execution_count": null,
      "outputs": [
        {
          "output_type": "stream",
          "name": "stdout",
          "text": [
            "(2380, 96, 96, 3) (1020, 96, 96, 3) (2380,) (1020,)\n"
          ]
        }
      ]
    },
    {
      "cell_type": "code",
      "source": [
        "def build_model(lr=1e-4):\n",
        "   return tf.keras.models.Sequential([\n",
        "      # 1st conv\n",
        "    tf.keras.layers.Conv2D(64, (3,3), activation='relu', input_shape=(96, 96, 3)),\n",
        "    tf.keras.layers.Conv2D(64, (3,3), activation='relu'),\n",
        "    tf.keras.layers.MaxPooling2D(2, strides=(2,2)),\n",
        "      # 2nd conv\n",
        "    tf.keras.layers.Conv2D(128, (3,3), activation='relu', input_shape=(46, 46, 3)),\n",
        "    tf.keras.layers.Conv2D(128, (3,3), activation='relu'),\n",
        "    tf.keras.layers.Conv2D(128, (3,3), activation='relu'),\n",
        "    tf.keras.layers.MaxPooling2D(2, strides=(2,2)),\n",
        "      # 3rd conv\n",
        "    tf.keras.layers.Conv2D(256, (3,3), activation='relu', input_shape=(23, 23, 3)),\n",
        "    tf.keras.layers.Conv2D(256, (3,3), activation='relu'),\n",
        "    tf.keras.layers.Conv2D(256, (3,3), activation='relu'),\n",
        "    tf.keras.layers.MaxPooling2D(2, strides=(2,2)),\n",
        "    \n",
        "    # To Flatten layer\n",
        "    tf.keras.layers.Flatten(),\n",
        "    # To FC layer 1\n",
        "    tf.keras.layers.Dense(4096, activation='relu'),\n",
        "    tf.keras.layers.Dropout(0.2),\n",
        "    tf.keras.layers.Dense(4096, activation='relu'),\n",
        "    tf.keras.layers.Dropout(0.2),\n",
        "    tf.keras.layers.Dense(2, activation='sigmoid')\n",
        "  ])"
      ],
      "metadata": {
        "id": "IPae8kjJ08y1"
      },
      "execution_count": null,
      "outputs": []
    },
    {
      "cell_type": "code",
      "source": [
        "# K.clear_session()\n",
        "# gc.collect()\n",
        "\n",
        "# resnet = tf.keras.applications.InceptionV3(\n",
        "#     weights='imagenet',\n",
        "#     include_top=False,\n",
        "#     input_shape=(96,96,3)\n",
        "# )\n",
        "\n",
        "\n",
        " \n",
        "#building Alexnet - v1 Model\n",
        "\n",
        "Alexnet_GAN_model = build_model(lr = 1e-6)\n",
        "Alexnet_GAN_model.summary()"
      ],
      "metadata": {
        "colab": {
          "base_uri": "https://localhost:8080/"
        },
        "id": "hghl3-yGKVsk",
        "outputId": "d67ebd6d-aa0d-4227-f8f2-78a408fb9f6b"
      },
      "execution_count": null,
      "outputs": [
        {
          "output_type": "stream",
          "name": "stdout",
          "text": [
            "Model: \"sequential_2\"\n",
            "_________________________________________________________________\n",
            " Layer (type)                Output Shape              Param #   \n",
            "=================================================================\n",
            " conv2d_16 (Conv2D)          (None, 94, 94, 64)        1792      \n",
            "                                                                 \n",
            " conv2d_17 (Conv2D)          (None, 92, 92, 64)        36928     \n",
            "                                                                 \n",
            " max_pooling2d_6 (MaxPooling  (None, 46, 46, 64)       0         \n",
            " 2D)                                                             \n",
            "                                                                 \n",
            " conv2d_18 (Conv2D)          (None, 44, 44, 128)       73856     \n",
            "                                                                 \n",
            " conv2d_19 (Conv2D)          (None, 42, 42, 128)       147584    \n",
            "                                                                 \n",
            " conv2d_20 (Conv2D)          (None, 40, 40, 128)       147584    \n",
            "                                                                 \n",
            " max_pooling2d_7 (MaxPooling  (None, 20, 20, 128)      0         \n",
            " 2D)                                                             \n",
            "                                                                 \n",
            " conv2d_21 (Conv2D)          (None, 18, 18, 256)       295168    \n",
            "                                                                 \n",
            " conv2d_22 (Conv2D)          (None, 16, 16, 256)       590080    \n",
            "                                                                 \n",
            " conv2d_23 (Conv2D)          (None, 14, 14, 256)       590080    \n",
            "                                                                 \n",
            " max_pooling2d_8 (MaxPooling  (None, 7, 7, 256)        0         \n",
            " 2D)                                                             \n",
            "                                                                 \n",
            " flatten_2 (Flatten)         (None, 12544)             0         \n",
            "                                                                 \n",
            " dense_6 (Dense)             (None, 4096)              51384320  \n",
            "                                                                 \n",
            " dropout_4 (Dropout)         (None, 4096)              0         \n",
            "                                                                 \n",
            " dense_7 (Dense)             (None, 4096)              16781312  \n",
            "                                                                 \n",
            " dropout_5 (Dropout)         (None, 4096)              0         \n",
            "                                                                 \n",
            " dense_8 (Dense)             (None, 2)                 8194      \n",
            "                                                                 \n",
            "=================================================================\n",
            "Total params: 70,056,898\n",
            "Trainable params: 70,056,898\n",
            "Non-trainable params: 0\n",
            "_________________________________________________________________\n"
          ]
        }
      ]
    },
    {
      "cell_type": "code",
      "source": [
        "def train_model_GAN():\n",
        "  \n",
        "  # model = create_model()\n",
        "  Alexnet_GAN_model.compile(optimizer='SGD',\n",
        "                loss='sparse_categorical_crossentropy',\n",
        "                metrics=['accuracy'])\n",
        "\n",
        "  logdir = os.path.join(\"logs\", \"Alexnet_model_GAN_SGD\",datetime.datetime.now().strftime(\"%Y%m%d-%H%M%S\"))\n",
        "  tensorboard_callback = tf.keras.callbacks.TensorBoard(logdir, histogram_freq=1)\n",
        "\n",
        "  Alexnet_GAN_model.fit(x=X_GANtrain, \n",
        "            y=y_GANtrain, \n",
        "            epochs=20, \n",
        "            validation_data=(X_GANtest, y_GANtest), \n",
        "            callbacks=[tensorboard_callback])\n",
        "\n",
        "train_model_GAN()"
      ],
      "metadata": {
        "colab": {
          "base_uri": "https://localhost:8080/"
        },
        "id": "1CuJIDOPV8El",
        "outputId": "c702bddd-5191-41be-9e2d-ffd561ee97c4"
      },
      "execution_count": null,
      "outputs": [
        {
          "output_type": "stream",
          "name": "stdout",
          "text": [
            "Epoch 1/20\n",
            "75/75 [==============================] - 13s 166ms/step - loss: 1.2791 - accuracy: 0.6126 - val_loss: 0.5940 - val_accuracy: 0.6980\n",
            "Epoch 2/20\n",
            "75/75 [==============================] - 9s 119ms/step - loss: 0.5752 - accuracy: 0.7067 - val_loss: 0.5390 - val_accuracy: 0.7461\n",
            "Epoch 3/20\n",
            "75/75 [==============================] - 9s 119ms/step - loss: 0.5397 - accuracy: 0.7382 - val_loss: 0.5079 - val_accuracy: 0.7725\n",
            "Epoch 4/20\n",
            "75/75 [==============================] - 9s 118ms/step - loss: 0.4522 - accuracy: 0.8029 - val_loss: 0.3849 - val_accuracy: 0.8578\n",
            "Epoch 5/20\n",
            "75/75 [==============================] - 9s 118ms/step - loss: 0.3529 - accuracy: 0.8433 - val_loss: 0.4666 - val_accuracy: 0.8059\n",
            "Epoch 6/20\n",
            "75/75 [==============================] - 9s 118ms/step - loss: 0.2534 - accuracy: 0.8954 - val_loss: 0.2633 - val_accuracy: 0.8814\n",
            "Epoch 7/20\n",
            "75/75 [==============================] - 9s 120ms/step - loss: 0.1689 - accuracy: 0.9328 - val_loss: 0.7036 - val_accuracy: 0.7137\n",
            "Epoch 8/20\n",
            "75/75 [==============================] - 9s 118ms/step - loss: 0.1420 - accuracy: 0.9466 - val_loss: 0.1699 - val_accuracy: 0.9412\n",
            "Epoch 9/20\n",
            "75/75 [==============================] - 9s 119ms/step - loss: 0.1410 - accuracy: 0.9475 - val_loss: 0.1161 - val_accuracy: 0.9608\n",
            "Epoch 10/20\n",
            "75/75 [==============================] - 9s 117ms/step - loss: 0.0676 - accuracy: 0.9765 - val_loss: 0.1121 - val_accuracy: 0.9608\n",
            "Epoch 11/20\n",
            "75/75 [==============================] - 9s 119ms/step - loss: 0.0208 - accuracy: 0.9937 - val_loss: 0.1055 - val_accuracy: 0.9627\n",
            "Epoch 12/20\n",
            "75/75 [==============================] - 9s 123ms/step - loss: 0.0072 - accuracy: 0.9992 - val_loss: 0.1061 - val_accuracy: 0.9735\n",
            "Epoch 13/20\n",
            "75/75 [==============================] - 9s 117ms/step - loss: 0.0062 - accuracy: 0.9979 - val_loss: 0.1273 - val_accuracy: 0.9637\n",
            "Epoch 14/20\n",
            "75/75 [==============================] - 9s 117ms/step - loss: 0.0028 - accuracy: 1.0000 - val_loss: 0.1026 - val_accuracy: 0.9725\n",
            "Epoch 15/20\n",
            "75/75 [==============================] - 9s 119ms/step - loss: 5.0652e-04 - accuracy: 1.0000 - val_loss: 0.1128 - val_accuracy: 0.9735\n",
            "Epoch 16/20\n",
            "75/75 [==============================] - 9s 119ms/step - loss: 6.6362e-04 - accuracy: 1.0000 - val_loss: 0.1097 - val_accuracy: 0.9725\n",
            "Epoch 17/20\n",
            "75/75 [==============================] - 9s 119ms/step - loss: 2.8750e-04 - accuracy: 1.0000 - val_loss: 0.1098 - val_accuracy: 0.9735\n",
            "Epoch 18/20\n",
            "75/75 [==============================] - 9s 117ms/step - loss: 1.6762e-04 - accuracy: 1.0000 - val_loss: 0.1090 - val_accuracy: 0.9745\n",
            "Epoch 19/20\n",
            "75/75 [==============================] - 9s 119ms/step - loss: 1.1751e-04 - accuracy: 1.0000 - val_loss: 0.1108 - val_accuracy: 0.9755\n",
            "Epoch 20/20\n",
            "75/75 [==============================] - 9s 118ms/step - loss: 1.2453e-04 - accuracy: 1.0000 - val_loss: 0.1130 - val_accuracy: 0.9755\n"
          ]
        }
      ]
    },
    {
      "cell_type": "code",
      "source": [
        "# extract the predicted probabilities\n",
        "p_pred_GANtrain = Alexnet_GAN_model.predict(X_GANtrain)"
      ],
      "metadata": {
        "id": "9pHyNtpxJekN"
      },
      "execution_count": null,
      "outputs": []
    },
    {
      "cell_type": "code",
      "source": [
        "y_pred_GANtrain = np.where(p_pred_GANtrain > 0.5, 1, 0)\n",
        "print(y_pred_GANtrain)"
      ],
      "metadata": {
        "colab": {
          "base_uri": "https://localhost:8080/"
        },
        "id": "NnEcjhN2Jenc",
        "outputId": "60924cf8-7ca4-470c-e3ec-1f4eb9198fe5"
      },
      "execution_count": null,
      "outputs": [
        {
          "output_type": "stream",
          "name": "stdout",
          "text": [
            "[[0 1]\n",
            " [0 1]\n",
            " [0 1]\n",
            " ...\n",
            " [0 1]\n",
            " [1 0]\n",
            " [1 0]]\n"
          ]
        }
      ]
    },
    {
      "cell_type": "code",
      "source": [
        "y_GANtrain = to_categorical(y_GANtrain, num_classes= 2)"
      ],
      "metadata": {
        "id": "T8GXg8dIJeqX"
      },
      "execution_count": null,
      "outputs": []
    },
    {
      "cell_type": "code",
      "source": [
        "import seaborn as sns\n",
        "import matplotlib.pyplot as plt\n",
        "from sklearn.metrics import confusion_matrix\n",
        "\n",
        "T5_lables = ['benign','malignant']    \n",
        "\n",
        "ax= plt.subplot()\n",
        "\n",
        "cm = confusion_matrix(np.asarray(y_pred_GANtrain).argmax(axis=1), np.asarray(y_GANtrain).argmax(axis=1))\n",
        "sns.heatmap(cm, annot=True, fmt='g', ax=ax);  #annot=True to annotate cells, ftm='g' to disable scientific notation\n",
        "\n",
        "# labels, title and ticks\n",
        "ax.set_xlabel('Predicted labels');ax.set_ylabel('True labels'); \n",
        "ax.set_title('Confusion Matrix for Nodule Patches from DCGAN - Train Data'); \n",
        "ax.xaxis.set_ticklabels(T5_lables); ax.yaxis.set_ticklabels(T5_lables);"
      ],
      "metadata": {
        "colab": {
          "base_uri": "https://localhost:8080/",
          "height": 295
        },
        "id": "1MGtIjm0Jetq",
        "outputId": "50bd4ea5-79b9-41a2-90da-6273a86206d9"
      },
      "execution_count": null,
      "outputs": [
        {
          "output_type": "display_data",
          "data": {
            "text/plain": [
              "<Figure size 432x288 with 2 Axes>"
            ],
            "image/png": "[encoded data removed]"
          },
          "metadata": {
            "needs_background": "light"
          }
        }
      ]
    },
    {
      "cell_type": "code",
      "source": [
        "# extract the predicted probabilities\n",
        "p_pred_GANtest = Alexnet_GAN_model.predict(X_GANtest)"
      ],
      "metadata": {
        "id": "kr4wUpvgJewv"
      },
      "execution_count": null,
      "outputs": []
    },
    {
      "cell_type": "code",
      "source": [
        "y_pred_GANtest = np.where(p_pred_GANtest > 0.5, 1, 0)\n",
        "print(y_pred_GANtrain)"
      ],
      "metadata": {
        "colab": {
          "base_uri": "https://localhost:8080/"
        },
        "id": "BxX7Ya9HJezR",
        "outputId": "fdd51fa8-a7dc-44c2-e993-4f5c20a8505d"
      },
      "execution_count": null,
      "outputs": [
        {
          "output_type": "stream",
          "name": "stdout",
          "text": [
            "[[0 1]\n",
            " [0 1]\n",
            " [0 1]\n",
            " ...\n",
            " [0 1]\n",
            " [1 0]\n",
            " [1 0]]\n"
          ]
        }
      ]
    },
    {
      "cell_type": "code",
      "source": [
        "y_GANtest = to_categorical(y_GANtest, num_classes= 2)"
      ],
      "metadata": {
        "id": "fD7TAscVJe31"
      },
      "execution_count": null,
      "outputs": []
    },
    {
      "cell_type": "code",
      "source": [
        "import seaborn as sns\n",
        "import matplotlib.pyplot as plt\n",
        "from sklearn.metrics import confusion_matrix\n",
        "\n",
        "T5_lables = ['benign','malignant']    \n",
        "\n",
        "ax= plt.subplot()\n",
        "\n",
        "cm = confusion_matrix(np.asarray(y_pred_GANtest).argmax(axis=1), np.asarray(y_GANtest).argmax(axis=1))\n",
        "sns.heatmap(cm, annot=True, fmt='g', ax=ax);  #annot=True to annotate cells, ftm='g' to disable scientific notation\n",
        "\n",
        "# labels, title and ticks\n",
        "ax.set_xlabel('Predicted labels');ax.set_ylabel('True labels'); \n",
        "ax.set_title('Confusion Matrix for Nodule Patches from DCGAN - Test Data'); \n",
        "ax.xaxis.set_ticklabels(T5_lables); ax.yaxis.set_ticklabels(T5_lables);"
      ],
      "metadata": {
        "colab": {
          "base_uri": "https://localhost:8080/",
          "height": 295
        },
        "id": "_XZLcNMUJe6i",
        "outputId": "c31dbbc9-b44c-44d9-88df-72b22b50ab63"
      },
      "execution_count": null,
      "outputs": [
        {
          "output_type": "display_data",
          "data": {
            "text/plain": [
              "<Figure size 432x288 with 2 Axes>"
            ],
            "image/png": "[encoded data removed]"
          },
          "metadata": {
            "needs_background": "light"
          }
        }
      ]
    },
    {
      "cell_type": "code",
      "source": [
        "GAN_Noncancer = np.load('/content/drive/My Drive/yazy/noncancer_lung_04Jun/output/generated_noncancer_nodules_2k_96x96.npy')\n",
        "GAN_Cancer = np.load('/content/drive/MyDrive/yazy/cancer_lung_29May/output/generated_cancer_nodules_2k_96x96.npy')\n",
        "print(GAN_Cancer.shape,GAN_Noncancer.shape,GAN_Cancer[0].shape,GAN_Noncancer[0].shape)"
      ],
      "metadata": {
        "colab": {
          "base_uri": "https://localhost:8080/"
        },
        "id": "9eFDJ2OVJe_3",
        "outputId": "70a78bc9-3fab-48f1-d342-17970b28faf5"
      },
      "execution_count": null,
      "outputs": [
        {
          "output_type": "stream",
          "name": "stdout",
          "text": [
            "(2000, 96, 96, 3) (2000, 96, 96, 3) (96, 96, 3) (96, 96, 3)\n"
          ]
        }
      ]
    },
    {
      "cell_type": "code",
      "source": [
        "testing_GAN_Cancer = GAN_Cancer[1700:]\n",
        "testing_GAN_Noncancer = GAN_Noncancer[1700:]\n",
        "print(testing_GAN_Cancer.shape,testing_GAN_Noncancer.shape,testing_GAN_Cancer[0].shape,testing_GAN_Noncancer[0].shape)"
      ],
      "metadata": {
        "colab": {
          "base_uri": "https://localhost:8080/"
        },
        "id": "LQ8_uuscJfCq",
        "outputId": "7e8fd593-fd06-49f0-a48f-dfbea147510a"
      },
      "execution_count": null,
      "outputs": [
        {
          "output_type": "stream",
          "name": "stdout",
          "text": [
            "(300, 96, 96, 3) (300, 96, 96, 3) (96, 96, 3) (96, 96, 3)\n"
          ]
        }
      ]
    },
    {
      "cell_type": "code",
      "source": [
        "X_GAN_testing = np.concatenate((testing_GAN_Cancer, testing_GAN_Noncancer), axis = 0)\n",
        "Y_GAN_testing = np.concatenate((np.ones(300), np.zeros(300)), axis = 0)\n",
        "print(X_GAN_testing.shape, Y_GAN_testing.shape)"
      ],
      "metadata": {
        "colab": {
          "base_uri": "https://localhost:8080/"
        },
        "id": "Vuhb_nBvJfFU",
        "outputId": "4e6f2e0b-8d75-4501-8770-b9a8a4223ba6"
      },
      "execution_count": null,
      "outputs": [
        {
          "output_type": "stream",
          "name": "stdout",
          "text": [
            "(600, 96, 96, 3) (600,)\n"
          ]
        }
      ]
    },
    {
      "cell_type": "code",
      "source": [
        "# extract the predicted probabilities\n",
        "p_predGAN_testing = Alexnet_GAN_model.predict(X_GAN_testing)"
      ],
      "metadata": {
        "id": "8AjiYrXTJfIG"
      },
      "execution_count": null,
      "outputs": []
    },
    {
      "cell_type": "code",
      "source": [
        "y_pred_GANtesting = np.where(p_predGAN_testing > 0.5, 1, 0)\n",
        "print(y_pred_GANtesting)"
      ],
      "metadata": {
        "colab": {
          "base_uri": "https://localhost:8080/"
        },
        "id": "PqkpwGTKJfK8",
        "outputId": "261507fb-6757-4412-f165-e995a5076672"
      },
      "execution_count": null,
      "outputs": [
        {
          "output_type": "stream",
          "name": "stdout",
          "text": [
            "[[0 1]\n",
            " [0 1]\n",
            " [0 1]\n",
            " ...\n",
            " [1 0]\n",
            " [1 0]\n",
            " [1 0]]\n"
          ]
        }
      ]
    },
    {
      "cell_type": "code",
      "source": [
        "Y_GAN_testing = to_categorical(Y_GAN_testing, num_classes= 2)"
      ],
      "metadata": {
        "id": "gilpKQQLJfN2"
      },
      "execution_count": null,
      "outputs": []
    },
    {
      "cell_type": "code",
      "source": [
        "import seaborn as sns\n",
        "import matplotlib.pyplot as plt\n",
        "from sklearn.metrics import confusion_matrix\n",
        "\n",
        "T5_lables = ['benign','malignant']    \n",
        "\n",
        "ax= plt.subplot()\n",
        "\n",
        "cm = confusion_matrix(np.asarray(y_pred_GANtesting).argmax(axis=1), np.asarray(Y_GAN_testing).argmax(axis=1))\n",
        "sns.heatmap(cm, annot=True, fmt='g', ax=ax);  #annot=True to annotate cells, ftm='g' to disable scientific notation\n",
        "\n",
        "# labels, title and ticks\n",
        "ax.set_xlabel('Predicted labels');ax.set_ylabel('True labels'); \n",
        "ax.set_title('Confusion Matrix for Nodule Patches from DCGAN - Validation Data'); \n",
        "ax.xaxis.set_ticklabels(T5_lables); ax.yaxis.set_ticklabels(T5_lables);\n"
      ],
      "metadata": {
        "colab": {
          "base_uri": "https://localhost:8080/",
          "height": 295
        },
        "id": "jetwLvCoJfSE",
        "outputId": "04ced767-f096-4d13-a3a4-62bc9c18dbf3"
      },
      "execution_count": null,
      "outputs": [
        {
          "output_type": "display_data",
          "data": {
            "text/plain": [
              "<Figure size 432x288 with 2 Axes>"
            ],
            "image/png": "[encoded data removed]"
          },
          "metadata": {
            "needs_background": "light"
          }
        }
      ]
    },
    {
      "cell_type": "code",
      "source": [
        "from sklearn.metrics import roc_curve\n",
        "p_GAN_train = Alexnet_GAN_model.predict(X_GANtrain)\n",
        "fpr_keras, tpr_keras, thresholds_keras = roc_curve(np.asarray(y_GANtrain).argmax(axis=1), np.asarray(p_GAN_train).argmax(axis=1))"
      ],
      "metadata": {
        "id": "joccTYA9J5u4"
      },
      "execution_count": null,
      "outputs": []
    },
    {
      "cell_type": "code",
      "source": [
        "from sklearn.metrics import auc\n",
        "auc_keras = auc(fpr_keras, tpr_keras)"
      ],
      "metadata": {
        "id": "QK96ZfN3J5xl"
      },
      "execution_count": null,
      "outputs": []
    },
    {
      "cell_type": "code",
      "source": [
        "fpr_GANtrain = dict()\n",
        "tpr_GANtrain = dict()\n",
        "roc_GANtrainauc = dict()\n",
        "for i in range(2):\n",
        "    fpr_GANtrain[i], tpr_GANtrain[i], _ = roc_curve(y_GANtrain[:, i], p_GAN_train[:, i])\n",
        "    roc_GANtrainauc[i] = auc(fpr_GANtrain[i], tpr_GANtrain[i])\n",
        "\n",
        "# Compute micro-average ROC curve and ROC area\n",
        "# fpr_GANtrain[\"micro\"], tpr_GANtrain[\"micro\"], _ = roc_curve(y_GANtrain.ravel(), p_GAN_train.ravel())\n",
        "# roc_GANtrainauc[\"micro\"] = auc(fpr_GANtrain[\"micro\"], tpr_GANtrain[\"micro\"])"
      ],
      "metadata": {
        "id": "9bP4uGiEJ50V"
      },
      "execution_count": null,
      "outputs": []
    },
    {
      "cell_type": "code",
      "source": [
        "from sklearn.metrics import roc_curve\n",
        "p_GAN_test = Alexnet_GAN_model.predict(X_GANtest)\n",
        "fpr_rf, tpr_rf, thresholds_rf = roc_curve(np.asarray(y_GANtest).argmax(axis=1), np.asarray(p_GAN_test).argmax(axis=1))"
      ],
      "metadata": {
        "id": "f_IqFxqhUaWu"
      },
      "execution_count": null,
      "outputs": []
    },
    {
      "cell_type": "code",
      "source": [
        "from sklearn.metrics import auc\n",
        "auc_keras = auc(fpr_keras, tpr_keras)"
      ],
      "metadata": {
        "id": "7evYvjFBYm0Y"
      },
      "execution_count": null,
      "outputs": []
    },
    {
      "cell_type": "code",
      "source": [
        "fpr_GANtest = dict()\n",
        "tpr_GANtest = dict()\n",
        "roc_GANtestauc = dict()\n",
        "for i in range(2):\n",
        "    fpr_GANtest[i], tpr_GANtest[i], _ = roc_curve(y_GANtest[:, i], p_GAN_test[:, i])\n",
        "    roc_GANtestauc[i] = auc(fpr_GANtest[i], tpr_GANtest[i])\n",
        "\n",
        "# Compute micro-average ROC curve and ROC area\n",
        "# fpr_GANtest[\"micro\"], tpr_GANtest[\"micro\"], _ = roc_curve(y_GANtest.ravel(), p_GAN_test.ravel())\n",
        "# roc_GANtestauc[\"micro\"] = auc(fpr_GANtest[\"micro\"], tpr_GANtest[\"micro\"])"
      ],
      "metadata": {
        "id": "Df8WWB5HUaud"
      },
      "execution_count": null,
      "outputs": []
    },
    {
      "cell_type": "code",
      "source": [
        "from sklearn.metrics import roc_curve\n",
        "p_GAN_testing = Alexnet_GAN_model.predict(X_GAN_testing)\n",
        "fpr_rff, tpr_rff, thresholds_rf = roc_curve(np.asarray(Y_GAN_testing).argmax(axis=1), np.asarray(p_GAN_testing).argmax(axis=1))"
      ],
      "metadata": {
        "id": "yKjsXavpUa2N"
      },
      "execution_count": null,
      "outputs": []
    },
    {
      "cell_type": "code",
      "source": [
        "from sklearn.metrics import auc\n",
        "auc_rff = auc(fpr_rff, tpr_rff)"
      ],
      "metadata": {
        "id": "V9-EAwGtUbMW"
      },
      "execution_count": null,
      "outputs": []
    },
    {
      "cell_type": "code",
      "source": [
        "fpr_GANtesting = dict()\n",
        "tpr_GANtesting = dict()\n",
        "roc_GANtestauc = dict()\n",
        "for i in range(2):\n",
        "    fpr_GANtesting[i], tpr_GANtesting[i], _ = roc_curve(Y_GAN_testing[:, i], p_GAN_testing[:, i])\n",
        "    roc_GANtestauc[i] = auc(fpr_GANtesting[i], tpr_GANtesting[i])\n",
        "\n",
        "# Compute micro-average ROC curve and ROC area\n",
        "# fpr_GANtesting[\"micro\"], tpr_GANtesting[\"micro\"], _ = roc_curve(y_GANtest.ravel(), p_GAN_test.ravel())\n",
        "# roc_GANtestauc[\"micro\"] = auc(fpr_GANtesting[\"micro\"], tpr_GANtesting[\"micro\"])\n"
      ],
      "metadata": {
        "id": "OAB9cRMdUbS1"
      },
      "execution_count": null,
      "outputs": []
    },
    {
      "cell_type": "code",
      "source": [
        "plt.figure()\n",
        "lw = 2\n",
        "plt.plot(\n",
        "    fpr_GANtrain[1],\n",
        "    tpr_GANtrain[1],\n",
        "    color=\"darkred\",\n",
        "    lw=lw,\n",
        "    label=\"Training Data\" ,\n",
        ")\n",
        "plt.plot(\n",
        "    fpr_GANtest[1],\n",
        "    tpr_GANtest[1],\n",
        "    color=\"darkorange\",\n",
        "    lw=lw,\n",
        "    label=\"Testing Data\",\n",
        "    linestyle=\"dashdot\",\n",
        ")\n",
        "plt.plot(\n",
        "    fpr_GANtesting[1],\n",
        "    tpr_GANtesting[1],\n",
        "    color=\"darkgreen\",\n",
        "    lw=lw,\n",
        "    label=\"Testing Data\",\n",
        "    linestyle=\"--\",\n",
        ")\n",
        "plt.plot([0, 1], [0, 1], color=\"navy\", lw=lw, linestyle=\"--\")\n",
        "plt.xlim([0.0, 1.0])\n",
        "plt.ylim([0.0, 1.05])\n",
        "plt.xlabel(\"False Positive Rate\")\n",
        "plt.ylabel(\"True Positive Rate\")\n",
        "plt.title(\"ROC curve - AlexNet - DCGAN Nodule Patches - SGD\")\n",
        "plt.legend(loc=\"lower right\")\n",
        "plt.show()"
      ],
      "metadata": {
        "colab": {
          "base_uri": "https://localhost:8080/",
          "height": 295
        },
        "id": "ivaXkc6vUbYW",
        "outputId": "f9516aa6-89ea-4bb0-ad60-43c874e88d58"
      },
      "execution_count": null,
      "outputs": [
        {
          "output_type": "display_data",
          "data": {
            "text/plain": [
              "<Figure size 432x288 with 1 Axes>"
            ],
            "image/png": "[encoded data removed]"
          },
          "metadata": {
            "needs_background": "light"
          }
        }
      ]
    },
    {
      "cell_type": "code",
      "source": [
        "from sklearn.metrics import classification_report\n",
        "print(classification_report( np.argmax(y_GANtrain, axis=1), np.argmax(p_pred_GANtrain, axis=1)))\n",
        "\n",
        "from sklearn.metrics import classification_report\n",
        "print(classification_report( np.argmax(y_GANtest, axis=1), np.argmax(p_GAN_test, axis=1)))\n",
        "\n",
        "from sklearn.metrics import classification_report\n",
        "print(classification_report( np.argmax(Y_GAN_testing, axis=1), np.argmax(p_GAN_testing, axis=1)))"
      ],
      "metadata": {
        "colab": {
          "base_uri": "https://localhost:8080/"
        },
        "id": "tRJPeJ_bUbde",
        "outputId": "2677a97a-c66a-4e26-9857-0518e579de20"
      },
      "execution_count": null,
      "outputs": [
        {
          "output_type": "stream",
          "name": "stdout",
          "text": [
            "              precision    recall  f1-score   support\n",
            "\n",
            "           0       1.00      1.00      1.00      1190\n",
            "           1       1.00      1.00      1.00      1190\n",
            "\n",
            "    accuracy                           1.00      2380\n",
            "   macro avg       1.00      1.00      1.00      2380\n",
            "weighted avg       1.00      1.00      1.00      2380\n",
            "\n",
            "              precision    recall  f1-score   support\n",
            "\n",
            "           0       0.98      0.97      0.98       510\n",
            "           1       0.97      0.98      0.98       510\n",
            "\n",
            "    accuracy                           0.98      1020\n",
            "   macro avg       0.98      0.98      0.98      1020\n",
            "weighted avg       0.98      0.98      0.98      1020\n",
            "\n",
            "              precision    recall  f1-score   support\n",
            "\n",
            "           0       0.98      0.99      0.99       300\n",
            "           1       0.99      0.98      0.99       300\n",
            "\n",
            "    accuracy                           0.99       600\n",
            "   macro avg       0.99      0.99      0.99       600\n",
            "weighted avg       0.99      0.99      0.99       600\n",
            "\n"
          ]
        }
      ]
    },
    {
      "cell_type": "code",
      "source": [
        "Alexnet_GAN_model.save(\"/content/drive/MyDrive/Ramasubramanya/CNN_Architectures_Model_Save/Alexnet_GAN_model.h5\")"
      ],
      "metadata": {
        "id": "fGrNaAwKJSAd"
      },
      "execution_count": null,
      "outputs": []
    },
    {
      "cell_type": "code",
      "source": [],
      "metadata": {
        "id": "vq4iUDf8LWat"
      },
      "execution_count": null,
      "outputs": []
    }
  ]
}